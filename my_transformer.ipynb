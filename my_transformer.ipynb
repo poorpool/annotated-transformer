{
 "cells": [
  {
   "cell_type": "markdown",
   "metadata": {},
   "source": [
    "# 实现示意图\n",
    "\n",
    "![](images/640.webp)"
   ]
  },
  {
   "cell_type": "markdown",
   "metadata": {},
   "source": [
    "# 导入库和工具函数"
   ]
  },
  {
   "cell_type": "code",
   "execution_count": 27,
   "metadata": {},
   "outputs": [],
   "source": [
    "import os\n",
    "from os.path import exists\n",
    "import torch\n",
    "import torch.nn as nn\n",
    "from torch.nn.functional import log_softmax, pad\n",
    "import math\n",
    "import copy\n",
    "import time\n",
    "from torch.optim.lr_scheduler import LambdaLR\n",
    "import pandas as pd\n",
    "import altair as alt\n",
    "from torchtext.data import to_map_style_dataset\n",
    "from torch.utils.data import DataLoader\n",
    "from torchtext.vocab import build_vocab_from_iterator\n",
    "import torchtext.datasets as datasets\n",
    "import spacy\n",
    "import GPUtil\n",
    "import warnings\n",
    "from torch.utils.data.distributed import DistributedSampler\n",
    "import torch.distributed as dist\n",
    "import torch.multiprocessing as mp\n",
    "from torch.nn.parallel import DistributedDataParallel as DDP\n",
    "\n",
    "\n",
    "# Set to False to skip notebook execution (e.g. for debugging)\n",
    "warnings.filterwarnings(\"ignore\")\n",
    "RUN_EXAMPLES = True"
   ]
  },
  {
   "cell_type": "code",
   "execution_count": 28,
   "metadata": {},
   "outputs": [],
   "source": [
    "# Some convenience helper functions used throughout the notebook\n",
    "alt.renderers.enable(\"mimetype\")  # 解决 Altair 渲染问题\n",
    "\n",
    "\n",
    "def is_interactive_notebook():\n",
    "    return __name__ == \"__main__\"\n",
    "\n",
    "\n",
    "def show_example(fn, args=[]):\n",
    "    if __name__ == \"__main__\" and RUN_EXAMPLES:\n",
    "        return fn(*args)\n",
    "\n",
    "\n",
    "class DummyOptimizer(torch.optim.Optimizer):\n",
    "    def __init__(self):\n",
    "        self.param_groups = [{\"lr\": 0}]\n",
    "        None\n",
    "\n",
    "    def step(self):\n",
    "        None\n",
    "\n",
    "    def zero_grad(self, set_to_none=False):\n",
    "        None\n",
    "\n",
    "\n",
    "class DummyScheduler:\n",
    "    def step(self):\n",
    "        None"
   ]
  },
  {
   "cell_type": "markdown",
   "metadata": {},
   "source": [
    "# 代码结构\n",
    "\n",
    "这里面，通常二维张量的形状可能是 (seq_len, d_model)，三维张量的形状可能是 (batch_size, seq_len, d_model)\n",
    "\n",
    "## Embedding\n",
    "\n",
    "论文说，In our model, we share the same weight matrix between the two embedding layers and\n",
    "the pre-softmax linear transformation, similar to [(cite)](https://arxiv.org/abs/1608.05859). 然而，输入层和输出层的 vocab_size 很可能不同，所以这种情况下就不太可能有相同的权值矩阵。\n",
    "\n",
    "说到权值矩阵，这玩意显然可以学习。\n",
    "\n",
    "论文说，In the embedding layers, we multiply those weights by $\\sqrt{d_{\\text{model}}}$. 代码里也确实是这么写的。"
   ]
  },
  {
   "cell_type": "code",
   "execution_count": 29,
   "metadata": {},
   "outputs": [],
   "source": [
    "class Embeddings(nn.Module):\n",
    "    \"\"\"\n",
    "    直接调 torch 的 embedding\n",
    "    d_model 是 dim of model 的意思，也就是论文中的 512\n",
    "    lut 是 lookup table 的意思\n",
    "    \"\"\"\n",
    "\n",
    "    def __init__(self, d_model: int, vocab_size: int):\n",
    "        super(Embeddings, self).__init__()\n",
    "        self.lut = nn.Embedding(vocab_size, d_model)\n",
    "        self.d_model = d_model\n",
    "\n",
    "    def forward(self, x: torch.Tensor):\n",
    "        \"\"\"\n",
    "        输出是一个高维向量张量，形状与输入张量相同，但最后加上一个嵌入维度\n",
    "        如果输入张量的形状是 (batch_size, sequence_length)\n",
    "        输出张量的形状是 (batch_size, sequence_length, d_model)\n",
    "        \"\"\"\n",
    "        return self.lut(x) * math.sqrt(self.d_model)"
   ]
  },
  {
   "cell_type": "markdown",
   "metadata": {},
   "source": [
    "## 位置编码\n",
    "\n",
    "In this work, we use sine and cosine functions of different frequencies:\n",
    "\n",
    "$$PE_{(pos,2i)} = \\sin(pos / 10000^{2i/d_{\\text{model}}})$$\n",
    "\n",
    "$$PE_{(pos,2i+1)} = \\cos(pos / 10000^{2i/d_{\\text{model}}})$$\n",
    "\n",
    "$pos / 10000^{2i/d_{\\text{model}}} = pos \\times 10000^{-2i/d_{\\text{model}}}$。我们可以计算 $10000^{-2i/d_{\\text{model}}}$ by $\\exp(\\log(10000^{-2i/d_{\\text{model}}})) = \\exp(-2i\\cdot\\log(10000)/d_{\\text{model}})$。其中 $2i$ 的取值就是 $0,2,\\ldots,d_{\\text{model}}-2$\n",
    "\n",
    "where $pos$ is the position and $i$ is the dimension.  That is, each\n",
    "dimension of the positional encoding corresponds to a sinusoid.  The\n",
    "wavelengths form a geometric progression from $2\\pi$ to $10000 \\cdot\n",
    "2\\pi$.  We chose this function because we hypothesized it would\n",
    "allow the model to easily learn to attend by relative positions,\n",
    "since for any fixed offset $k$, $PE_{pos+k}$ can be represented as a\n",
    "linear function of $PE_{pos}$. 尽管训练集的序列长度有限，我们也容许长一点的序列，但是还是不能太长，不然位置编码不能预生成得现算了。\n",
    "\n",
    "In addition, we apply dropout to the sums of the embeddings and the\n",
    "positional encodings in both the encoder and decoder stacks.  For\n",
    "the base model, we use a rate of $P_{drop}=0.1$. 所以，最后要加 drop"
   ]
  },
  {
   "cell_type": "code",
   "execution_count": 30,
   "metadata": {},
   "outputs": [],
   "source": [
    "class PositionalEncoding(nn.Module):\n",
    "    \"\"\"\n",
    "    Implement the PE function.\n",
    "    forward 输入张量形状是 (batch_size, seq_len, d_model)，即 (batch, seq, feature)\n",
    "    \"\"\"\n",
    "\n",
    "    def __init__(self, d_model: int, dropout_rate: float, max_len=5000):\n",
    "        super(PositionalEncoding, self).__init__()\n",
    "        self.dropout = nn.Dropout(dropout_rate)  # 创建 dropout 层\n",
    "        # 第一维序列下标，第二维 d_model\n",
    "        position = torch.arange(0, max_len).unsqueeze(1)  # 变成 (max_len, 1) 形状\n",
    "        div_term = torch.exp(torch.arange(0, d_model, 2) * -(math.log(10000) / d_model))\n",
    "\n",
    "        pe = torch.zeros(max_len, d_model)\n",
    "        pe[:, 0::2] = torch.sin(position * div_term)  # 注意广播机制和 hadamard 积\n",
    "        pe[:, 1::2] = torch.cos(position * div_term)  # 注意广播机制和 hadamard 积\n",
    "        pe = pe.unsqueeze(0)  # pe 变成 (1, max_len, d_model) 形状\n",
    "        self.register_buffer(\"pe\", pe)  # 这是个缓冲区，不是个参数\n",
    "\n",
    "    def forward(self, x: torch.Tensor):\n",
    "        # 和 pe 通过广播机制相加\n",
    "        # 第二个维度的大小确定好，第三个维度不变\n",
    "        # 防止 pe 计算梯度\n",
    "        x = x + self.pe[:, : x.size(1)].requires_grad_(False)\n",
    "        return self.dropout(x)"
   ]
  },
  {
   "cell_type": "markdown",
   "metadata": {},
   "source": [
    "测试位置编码"
   ]
  },
  {
   "cell_type": "code",
   "execution_count": 31,
   "metadata": {},
   "outputs": [
    {
     "data": {
      "application/vnd.vegalite.v5+json": {
       "$schema": "https://vega.github.io/schema/vega-lite/v5.17.0.json",
       "config": {
        "view": {
         "continuousHeight": 300,
         "continuousWidth": 300
        }
       },
       "data": {
        "name": "data-74197a450f4fae82b525a303f60629a7"
       },
       "datasets": {
        "data-74197a450f4fae82b525a303f60629a7": [
         {
          "dimension": 4,
          "embedding": 0,
          "position": 0
         },
         {
          "dimension": 4,
          "embedding": 0.15782663226127625,
          "position": 1
         },
         {
          "dimension": 4,
          "embedding": 0.3116971552371979,
          "position": 2
         },
         {
          "dimension": 4,
          "embedding": 0.45775455236434937,
          "position": 3
         },
         {
          "dimension": 4,
          "embedding": 0.5923377275466919,
          "position": 4
         },
         {
          "dimension": 4,
          "embedding": 0.7120732069015503,
          "position": 5
         },
         {
          "dimension": 4,
          "embedding": 0.813959538936615,
          "position": 6
         },
         {
          "dimension": 4,
          "embedding": 0.8954429626464844,
          "position": 7
         },
         {
          "dimension": 4,
          "embedding": 0.9544808864593506,
          "position": 8
         },
         {
          "dimension": 4,
          "embedding": 0.989593505859375,
          "position": 9
         },
         {
          "dimension": 4,
          "embedding": 0.9999006390571594,
          "position": 10
         },
         {
          "dimension": 4,
          "embedding": 0.9851439595222473,
          "position": 11
         },
         {
          "dimension": 4,
          "embedding": 0.94569331407547,
          "position": 12
         },
         {
          "dimension": 4,
          "embedding": 0.8825376033782959,
          "position": 13
         },
         {
          "dimension": 4,
          "embedding": 0.7972599267959595,
          "position": 14
         },
         {
          "dimension": 4,
          "embedding": 0.6919978260993958,
          "position": 15
         },
         {
          "dimension": 4,
          "embedding": 0.5693899393081665,
          "position": 16
         },
         {
          "dimension": 4,
          "embedding": 0.4325096309185028,
          "position": 17
         },
         {
          "dimension": 4,
          "embedding": 0.284787654876709,
          "position": 18
         },
         {
          "dimension": 4,
          "embedding": 0.12992730736732483,
          "position": 19
         },
         {
          "dimension": 4,
          "embedding": -0.028190065175294876,
          "position": 20
         },
         {
          "dimension": 4,
          "embedding": -0.18560057878494263,
          "position": 21
         },
         {
          "dimension": 4,
          "embedding": -0.3383587896823883,
          "position": 22
         },
         {
          "dimension": 4,
          "embedding": -0.4826357960700989,
          "position": 23
         },
         {
          "dimension": 4,
          "embedding": -0.6148146390914917,
          "position": 24
         },
         {
          "dimension": 4,
          "embedding": -0.7315824031829834,
          "position": 25
         },
         {
          "dimension": 4,
          "embedding": -0.8300122618675232,
          "position": 26
         },
         {
          "dimension": 4,
          "embedding": -0.9076365828514099,
          "position": 27
         },
         {
          "dimension": 4,
          "embedding": -0.96250981092453,
          "position": 28
         },
         {
          "dimension": 4,
          "embedding": -0.9932565093040466,
          "position": 29
         },
         {
          "dimension": 4,
          "embedding": -0.9991058707237244,
          "position": 30
         },
         {
          "dimension": 4,
          "embedding": -0.9799113273620605,
          "position": 31
         },
         {
          "dimension": 4,
          "embedding": -0.9361540079116821,
          "position": 32
         },
         {
          "dimension": 4,
          "embedding": -0.8689308166503906,
          "position": 33
         },
         {
          "dimension": 4,
          "embedding": -0.7799267172813416,
          "position": 34
         },
         {
          "dimension": 4,
          "embedding": -0.6713724136352539,
          "position": 35
         },
         {
          "dimension": 4,
          "embedding": -0.5459895133972168,
          "position": 36
         },
         {
          "dimension": 4,
          "embedding": -0.40692076086997986,
          "position": 37
         },
         {
          "dimension": 4,
          "embedding": -0.2576519548892975,
          "position": 38
         },
         {
          "dimension": 4,
          "embedding": -0.10192479938268661,
          "position": 39
         },
         {
          "dimension": 4,
          "embedding": 0.056357722729444504,
          "position": 40
         },
         {
          "dimension": 4,
          "embedding": 0.21322709321975708,
          "position": 41
         },
         {
          "dimension": 4,
          "embedding": 0.3647516369819641,
          "position": 42
         },
         {
          "dimension": 4,
          "embedding": 0.5071332454681396,
          "position": 43
         },
         {
          "dimension": 4,
          "embedding": 0.6368028521537781,
          "position": 44
         },
         {
          "dimension": 4,
          "embedding": 0.7505101561546326,
          "position": 45
         },
         {
          "dimension": 4,
          "embedding": 0.8454052805900574,
          "position": 46
         },
         {
          "dimension": 4,
          "embedding": 0.9191088080406189,
          "position": 47
         },
         {
          "dimension": 4,
          "embedding": 0.9697737693786621,
          "position": 48
         },
         {
          "dimension": 4,
          "embedding": 0.9961300492286682,
          "position": 49
         },
         {
          "dimension": 4,
          "embedding": 0.9975170493125916,
          "position": 50
         },
         {
          "dimension": 4,
          "embedding": 0.9738998413085938,
          "position": 51
         },
         {
          "dimension": 4,
          "embedding": 0.9258706569671631,
          "position": 52
         },
         {
          "dimension": 4,
          "embedding": 0.8546332716941833,
          "position": 53
         },
         {
          "dimension": 4,
          "embedding": 0.7619734406471252,
          "position": 54
         },
         {
          "dimension": 4,
          "embedding": 0.6502137184143066,
          "position": 55
         },
         {
          "dimension": 4,
          "embedding": 0.5221555233001709,
          "position": 56
         },
         {
          "dimension": 4,
          "embedding": 0.38100889325141907,
          "position": 57
         },
         {
          "dimension": 4,
          "embedding": 0.23031172156333923,
          "position": 58
         },
         {
          "dimension": 4,
          "embedding": 0.07384055852890015,
          "position": 59
         },
         {
          "dimension": 4,
          "embedding": -0.08448058366775513,
          "position": 60
         },
         {
          "dimension": 4,
          "embedding": -0.2406841218471527,
          "position": 61
         },
         {
          "dimension": 4,
          "embedding": -0.3908545970916748,
          "position": 62
         },
         {
          "dimension": 4,
          "embedding": -0.5312277674674988,
          "position": 63
         },
         {
          "dimension": 4,
          "embedding": -0.6582850813865662,
          "position": 64
         },
         {
          "dimension": 4,
          "embedding": -0.768841564655304,
          "position": 65
         },
         {
          "dimension": 4,
          "embedding": -0.8601260781288147,
          "position": 66
         },
         {
          "dimension": 4,
          "embedding": -0.9298503994941711,
          "position": 67
         },
         {
          "dimension": 4,
          "embedding": -0.9762668013572693,
          "position": 68
         },
         {
          "dimension": 4,
          "embedding": -0.9982118010520935,
          "position": 69
         },
         {
          "dimension": 4,
          "embedding": -0.9951352477073669,
          "position": 70
         },
         {
          "dimension": 4,
          "embedding": -0.967114269733429,
          "position": 71
         },
         {
          "dimension": 4,
          "embedding": -0.9148513078689575,
          "position": 72
         },
         {
          "dimension": 4,
          "embedding": -0.839656412601471,
          "position": 73
         },
         {
          "dimension": 4,
          "embedding": -0.7434144616127014,
          "position": 74
         },
         {
          "dimension": 4,
          "embedding": -0.6285378336906433,
          "position": 75
         },
         {
          "dimension": 4,
          "embedding": -0.4979061186313629,
          "position": 76
         },
         {
          "dimension": 4,
          "embedding": -0.3547937273979187,
          "position": 77
         },
         {
          "dimension": 4,
          "embedding": -0.20278796553611755,
          "position": 78
         },
         {
          "dimension": 4,
          "embedding": -0.04569905996322632,
          "position": 79
         },
         {
          "dimension": 4,
          "embedding": 0.11253630369901657,
          "position": 80
         },
         {
          "dimension": 4,
          "embedding": 0.2679498493671417,
          "position": 81
         },
         {
          "dimension": 4,
          "embedding": 0.4166468679904938,
          "position": 82
         },
         {
          "dimension": 4,
          "embedding": 0.5549001097679138,
          "position": 83
         },
         {
          "dimension": 4,
          "embedding": 0.6792440414428711,
          "position": 84
         },
         {
          "dimension": 4,
          "embedding": 0.7865618467330933,
          "position": 85
         },
         {
          "dimension": 4,
          "embedding": 0.8741634488105774,
          "position": 86
         },
         {
          "dimension": 4,
          "embedding": 0.9398530125617981,
          "position": 87
         },
         {
          "dimension": 4,
          "embedding": 0.9819839596748352,
          "position": 88
         },
         {
          "dimension": 4,
          "embedding": 0.9995002150535583,
          "position": 89
         },
         {
          "dimension": 4,
          "embedding": 0.9919626712799072,
          "position": 90
         },
         {
          "dimension": 4,
          "embedding": 0.959559977054596,
          "position": 91
         },
         {
          "dimension": 4,
          "embedding": 0.903104841709137,
          "position": 92
         },
         {
          "dimension": 4,
          "embedding": 0.8240122199058533,
          "position": 93
         },
         {
          "dimension": 4,
          "embedding": 0.7242646217346191,
          "position": 94
         },
         {
          "dimension": 4,
          "embedding": 0.6063624024391174,
          "position": 95
         },
         {
          "dimension": 4,
          "embedding": 0.4732609689235687,
          "position": 96
         },
         {
          "dimension": 4,
          "embedding": 0.32829657196998596,
          "position": 97
         },
         {
          "dimension": 4,
          "embedding": 0.17510302364826202,
          "position": 98
         },
         {
          "dimension": 4,
          "embedding": 0.01752028614282608,
          "position": 99
         },
         {
          "dimension": 5,
          "embedding": 1,
          "position": 0
         },
         {
          "dimension": 5,
          "embedding": 0.9874668121337891,
          "position": 1
         },
         {
          "dimension": 5,
          "embedding": 0.9501814842224121,
          "position": 2
         },
         {
          "dimension": 5,
          "embedding": 0.8890786170959473,
          "position": 3
         },
         {
          "dimension": 5,
          "embedding": 0.8056897521018982,
          "position": 4
         },
         {
          "dimension": 5,
          "embedding": 0.7021052241325378,
          "position": 5
         },
         {
          "dimension": 5,
          "embedding": 0.5809215903282166,
          "position": 6
         },
         {
          "dimension": 5,
          "embedding": 0.44517630338668823,
          "position": 7
         },
         {
          "dimension": 5,
          "embedding": 0.2982720732688904,
          "position": 8
         },
         {
          "dimension": 5,
          "embedding": 0.14389123022556305,
          "position": 9
         },
         {
          "dimension": 5,
          "embedding": -0.01409643329679966,
          "position": 10
         },
         {
          "dimension": 5,
          "embedding": -0.1717306226491928,
          "position": 11
         },
         {
          "dimension": 5,
          "embedding": -0.32506027817726135,
          "position": 12
         },
         {
          "dimension": 5,
          "embedding": -0.47024187445640564,
          "position": 13
         },
         {
          "dimension": 5,
          "embedding": -0.6036361455917358,
          "position": 14
         },
         {
          "dimension": 5,
          "embedding": -0.7218996286392212,
          "position": 15
         },
         {
          "dimension": 5,
          "embedding": -0.8220675587654114,
          "position": 16
         },
         {
          "dimension": 5,
          "embedding": -0.9016293287277222,
          "position": 17
         },
         {
          "dimension": 5,
          "embedding": -0.9585906267166138,
          "position": 18
         },
         {
          "dimension": 5,
          "embedding": -0.9915235042572021,
          "position": 19
         },
         {
          "dimension": 5,
          "embedding": -0.9996025562286377,
          "position": 20
         },
         {
          "dimension": 5,
          "embedding": -0.9826252460479736,
          "position": 21
         },
         {
          "dimension": 5,
          "embedding": -0.941017210483551,
          "position": 22
         },
         {
          "dimension": 5,
          "embedding": -0.8758211731910706,
          "position": 23
         },
         {
          "dimension": 5,
          "embedding": -0.788671612739563,
          "position": 24
         },
         {
          "dimension": 5,
          "embedding": -0.6817529797554016,
          "position": 25
         },
         {
          "dimension": 5,
          "embedding": -0.5577451586723328,
          "position": 26
         },
         {
          "dimension": 5,
          "embedding": -0.4197568893432617,
          "position": 27
         },
         {
          "dimension": 5,
          "embedding": -0.27124688029289246,
          "position": 28
         },
         {
          "dimension": 5,
          "embedding": -0.11593768745660782,
          "position": 29
         },
         {
          "dimension": 5,
          "embedding": 0.042278096079826355,
          "position": 30
         },
         {
          "dimension": 5,
          "embedding": 0.19943365454673767,
          "position": 31
         },
         {
          "dimension": 5,
          "embedding": 0.3515901565551758,
          "position": 32
         },
         {
          "dimension": 5,
          "embedding": 0.4949335753917694,
          "position": 33
         },
         {
          "dimension": 5,
          "embedding": 0.6258708238601685,
          "position": 34
         },
         {
          "dimension": 5,
          "embedding": 0.7411201596260071,
          "position": 35
         },
         {
          "dimension": 5,
          "embedding": 0.8377919793128967,
          "position": 36
         },
         {
          "dimension": 5,
          "embedding": 0.9134634733200073,
          "position": 37
         },
         {
          "dimension": 5,
          "embedding": 0.9662377834320068,
          "position": 38
         },
         {
          "dimension": 5,
          "embedding": 0.994792103767395,
          "position": 39
         },
         {
          "dimension": 5,
          "embedding": 0.9984106421470642,
          "position": 40
         },
         {
          "dimension": 5,
          "embedding": 0.9770026803016663,
          "position": 41
         },
         {
          "dimension": 5,
          "embedding": 0.931104838848114,
          "position": 42
         },
         {
          "dimension": 5,
          "embedding": 0.8618676662445068,
          "position": 43
         },
         {
          "dimension": 5,
          "embedding": 0.7710266709327698,
          "position": 44
         },
         {
          "dimension": 5,
          "embedding": 0.6608588695526123,
          "position": 45
         },
         {
          "dimension": 5,
          "embedding": 0.5341253876686096,
          "position": 46
         },
         {
          "dimension": 5,
          "embedding": 0.3940037488937378,
          "position": 47
         },
         {
          "dimension": 5,
          "embedding": 0.24400585889816284,
          "position": 48
         },
         {
          "dimension": 5,
          "embedding": 0.08789165318012238,
          "position": 49
         },
         {
          "dimension": 5,
          "embedding": -0.07042567431926727,
          "position": 50
         },
         {
          "dimension": 5,
          "embedding": -0.2269781529903412,
          "position": 51
         },
         {
          "dimension": 5,
          "embedding": -0.37784066796302795,
          "position": 52
         },
         {
          "dimension": 5,
          "embedding": -0.5192320942878723,
          "position": 53
         },
         {
          "dimension": 5,
          "embedding": -0.6476082801818848,
          "position": 54
         },
         {
          "dimension": 5,
          "embedding": -0.7597513794898987,
          "position": 55
         },
         {
          "dimension": 5,
          "embedding": -0.8528502583503723,
          "position": 56
         },
         {
          "dimension": 5,
          "embedding": -0.9245713949203491,
          "position": 57
         },
         {
          "dimension": 5,
          "embedding": -0.973116934299469,
          "position": 58
         },
         {
          "dimension": 5,
          "embedding": -0.9972700476646423,
          "position": 59
         },
         {
          "dimension": 5,
          "embedding": -0.9964250922203064,
          "position": 60
         },
         {
          "dimension": 5,
          "embedding": -0.9706035256385803,
          "position": 61
         },
         {
          "dimension": 5,
          "embedding": -0.9204524159431458,
          "position": 62
         },
         {
          "dimension": 5,
          "embedding": -0.8472290635108948,
          "position": 63
         },
         {
          "dimension": 5,
          "embedding": -0.7527687549591064,
          "position": 64
         },
         {
          "dimension": 5,
          "embedding": -0.6394393444061279,
          "position": 65
         },
         {
          "dimension": 5,
          "embedding": -0.5100815296173096,
          "position": 66
         },
         {
          "dimension": 5,
          "embedding": -0.3679378628730774,
          "position": 67
         },
         {
          "dimension": 5,
          "embedding": -0.2165713608264923,
          "position": 68
         },
         {
          "dimension": 5,
          "embedding": -0.05977622792124748,
          "position": 69
         },
         {
          "dimension": 5,
          "embedding": 0.09851823002099991,
          "position": 70
         },
         {
          "dimension": 5,
          "embedding": 0.254342257976532,
          "position": 71
         },
         {
          "dimension": 5,
          "embedding": 0.4037908613681793,
          "position": 72
         },
         {
          "dimension": 5,
          "embedding": 0.543117880821228,
          "position": 73
         },
         {
          "dimension": 5,
          "embedding": 0.6688309907913208,
          "position": 74
         },
         {
          "dimension": 5,
          "embedding": 0.7777789831161499,
          "position": 75
         },
         {
          "dimension": 5,
          "embedding": 0.8672309517860413,
          "position": 76
         },
         {
          "dimension": 5,
          "embedding": 0.9349446296691895,
          "position": 77
         },
         {
          "dimension": 5,
          "embedding": 0.9792226552963257,
          "position": 78
         },
         {
          "dimension": 5,
          "embedding": 0.998955249786377,
          "position": 79
         },
         {
          "dimension": 5,
          "embedding": 0.9936476349830627,
          "position": 80
         },
         {
          "dimension": 5,
          "embedding": 0.9634328484535217,
          "position": 81
         },
         {
          "dimension": 5,
          "embedding": 0.9090684056282043,
          "position": 82
         },
         {
          "dimension": 5,
          "embedding": 0.8319169878959656,
          "position": 83
         },
         {
          "dimension": 5,
          "embedding": 0.733912467956543,
          "position": 84
         },
         {
          "dimension": 5,
          "embedding": 0.617511510848999,
          "position": 85
         },
         {
          "dimension": 5,
          "embedding": 0.4856317937374115,
          "position": 86
         },
         {
          "dimension": 5,
          "embedding": 0.3415791094303131,
          "position": 87
         },
         {
          "dimension": 5,
          "embedding": 0.18896427750587463,
          "position": 88
         },
         {
          "dimension": 5,
          "embedding": 0.0316128134727478,
          "position": 89
         },
         {
          "dimension": 5,
          "embedding": -0.12653106451034546,
          "position": 90
         },
         {
          "dimension": 5,
          "embedding": -0.28150418400764465,
          "position": 91
         },
         {
          "dimension": 5,
          "embedding": -0.4294200837612152,
          "position": 92
         },
         {
          "dimension": 5,
          "embedding": -0.5665720105171204,
          "position": 93
         },
         {
          "dimension": 5,
          "embedding": -0.6895220875740051,
          "position": 94
         },
         {
          "dimension": 5,
          "embedding": -0.7951884269714355,
          "position": 95
         },
         {
          "dimension": 5,
          "embedding": -0.880922257900238,
          "position": 96
         },
         {
          "dimension": 5,
          "embedding": -0.9445747137069702,
          "position": 97
         },
         {
          "dimension": 5,
          "embedding": -0.9845501184463501,
          "position": 98
         },
         {
          "dimension": 5,
          "embedding": -0.9998465180397034,
          "position": 99
         },
         {
          "dimension": 6,
          "embedding": 0,
          "position": 0
         },
         {
          "dimension": 6,
          "embedding": 0.06305388361215591,
          "position": 1
         },
         {
          "dimension": 6,
          "embedding": 0.12585683166980743,
          "position": 2
         },
         {
          "dimension": 6,
          "embedding": 0.18815888464450836,
          "position": 3
         },
         {
          "dimension": 6,
          "embedding": 0.24971213936805725,
          "position": 4
         },
         {
          "dimension": 6,
          "embedding": 0.31027159094810486,
          "position": 5
         },
         {
          "dimension": 6,
          "embedding": 0.3695962131023407,
          "position": 6
         },
         {
          "dimension": 6,
          "embedding": 0.4274499714374542,
          "position": 7
         },
         {
          "dimension": 6,
          "embedding": 0.4836025834083557,
          "position": 8
         },
         {
          "dimension": 6,
          "embedding": 0.5378305912017822,
          "position": 9
         },
         {
          "dimension": 6,
          "embedding": 0.5899181365966797,
          "position": 10
         },
         {
          "dimension": 6,
          "embedding": 0.6396579146385193,
          "position": 11
         },
         {
          "dimension": 6,
          "embedding": 0.6868520379066467,
          "position": 12
         },
         {
          "dimension": 6,
          "embedding": 0.7313126921653748,
          "position": 13
         },
         {
          "dimension": 6,
          "embedding": 0.7728629112243652,
          "position": 14
         },
         {
          "dimension": 6,
          "embedding": 0.8113372921943665,
          "position": 15
         },
         {
          "dimension": 6,
          "embedding": 0.8465827703475952,
          "position": 16
         },
         {
          "dimension": 6,
          "embedding": 0.8784590363502502,
          "position": 17
         },
         {
          "dimension": 6,
          "embedding": 0.9068393111228943,
          "position": 18
         },
         {
          "dimension": 6,
          "embedding": 0.9316105246543884,
          "position": 19
         },
         {
          "dimension": 6,
          "embedding": 0.9526742100715637,
          "position": 20
         },
         {
          "dimension": 6,
          "embedding": 0.9699464440345764,
          "position": 21
         },
         {
          "dimension": 6,
          "embedding": 0.9833585619926453,
          "position": 22
         },
         {
          "dimension": 6,
          "embedding": 0.9928570985794067,
          "position": 23
         },
         {
          "dimension": 6,
          "embedding": 0.9984043836593628,
          "position": 24
         },
         {
          "dimension": 6,
          "embedding": 0.999978244304657,
          "position": 25
         },
         {
          "dimension": 6,
          "embedding": 0.9975724220275879,
          "position": 26
         },
         {
          "dimension": 6,
          "embedding": 0.9911965131759644,
          "position": 27
         },
         {
          "dimension": 6,
          "embedding": 0.9808759093284607,
          "position": 28
         },
         {
          "dimension": 6,
          "embedding": 0.9666516780853271,
          "position": 29
         },
         {
          "dimension": 6,
          "embedding": 0.9485803842544556,
          "position": 30
         },
         {
          "dimension": 6,
          "embedding": 0.9267339110374451,
          "position": 31
         },
         {
          "dimension": 6,
          "embedding": 0.9011994004249573,
          "position": 32
         },
         {
          "dimension": 6,
          "embedding": 0.8720782399177551,
          "position": 33
         },
         {
          "dimension": 6,
          "embedding": 0.8394865393638611,
          "position": 34
         },
         {
          "dimension": 6,
          "embedding": 0.8035537600517273,
          "position": 35
         },
         {
          "dimension": 6,
          "embedding": 0.7644230127334595,
          "position": 36
         },
         {
          "dimension": 6,
          "embedding": 0.7222501039505005,
          "position": 37
         },
         {
          "dimension": 6,
          "embedding": 0.6772029399871826,
          "position": 38
         },
         {
          "dimension": 6,
          "embedding": 0.6294605135917664,
          "position": 39
         },
         {
          "dimension": 6,
          "embedding": 0.57921302318573,
          "position": 40
         },
         {
          "dimension": 6,
          "embedding": 0.5266605615615845,
          "position": 41
         },
         {
          "dimension": 6,
          "embedding": 0.4720119535923004,
          "position": 42
         },
         {
          "dimension": 6,
          "embedding": 0.41548484563827515,
          "position": 43
         },
         {
          "dimension": 6,
          "embedding": 0.3573042154312134,
          "position": 44
         },
         {
          "dimension": 6,
          "embedding": 0.29770180583000183,
          "position": 45
         },
         {
          "dimension": 6,
          "embedding": 0.23691439628601074,
          "position": 46
         },
         {
          "dimension": 6,
          "embedding": 0.17518411576747894,
          "position": 47
         },
         {
          "dimension": 6,
          "embedding": 0.1127568930387497,
          "position": 48
         },
         {
          "dimension": 6,
          "embedding": 0.04988069087266922,
          "position": 49
         },
         {
          "dimension": 6,
          "embedding": -0.013194027356803417,
          "position": 50
         },
         {
          "dimension": 6,
          "embedding": -0.07621623575687408,
          "position": 51
         },
         {
          "dimension": 6,
          "embedding": -0.1389348804950714,
          "position": 52
         },
         {
          "dimension": 6,
          "embedding": -0.20110084116458893,
          "position": 53
         },
         {
          "dimension": 6,
          "embedding": -0.2624664604663849,
          "position": 54
         },
         {
          "dimension": 6,
          "embedding": -0.3227875530719757,
          "position": 55
         },
         {
          "dimension": 6,
          "embedding": -0.3818237781524658,
          "position": 56
         },
         {
          "dimension": 6,
          "embedding": -0.4393406808376312,
          "position": 57
         },
         {
          "dimension": 6,
          "embedding": -0.49510911107063293,
          "position": 58
         },
         {
          "dimension": 6,
          "embedding": -0.5489069223403931,
          "position": 59
         },
         {
          "dimension": 6,
          "embedding": -0.6005204319953918,
          "position": 60
         },
         {
          "dimension": 6,
          "embedding": -0.6497439742088318,
          "position": 61
         },
         {
          "dimension": 6,
          "embedding": -0.6963817477226257,
          "position": 62
         },
         {
          "dimension": 6,
          "embedding": -0.7402478456497192,
          "position": 63
         },
         {
          "dimension": 6,
          "embedding": -0.7811681628227234,
          "position": 64
         },
         {
          "dimension": 6,
          "embedding": -0.8189795017242432,
          "position": 65
         },
         {
          "dimension": 6,
          "embedding": -0.8535317182540894,
          "position": 66
         },
         {
          "dimension": 6,
          "embedding": -0.8846868872642517,
          "position": 67
         },
         {
          "dimension": 6,
          "embedding": -0.9123212099075317,
          "position": 68
         },
         {
          "dimension": 6,
          "embedding": -0.936324954032898,
          "position": 69
         },
         {
          "dimension": 6,
          "embedding": -0.956602156162262,
          "position": 70
         },
         {
          "dimension": 6,
          "embedding": -0.9730724096298218,
          "position": 71
         },
         {
          "dimension": 6,
          "embedding": -0.9856699705123901,
          "position": 72
         },
         {
          "dimension": 6,
          "embedding": -0.9943448305130005,
          "position": 73
         },
         {
          "dimension": 6,
          "embedding": -0.9990625381469727,
          "position": 74
         },
         {
          "dimension": 6,
          "embedding": -0.9998041391372681,
          "position": 75
         },
         {
          "dimension": 6,
          "embedding": -0.9965668320655823,
          "position": 76
         },
         {
          "dimension": 6,
          "embedding": -0.9893633723258972,
          "position": 77
         },
         {
          "dimension": 6,
          "embedding": -0.9782225489616394,
          "position": 78
         },
         {
          "dimension": 6,
          "embedding": -0.963188648223877,
          "position": 79
         },
         {
          "dimension": 6,
          "embedding": -0.9443213939666748,
          "position": 80
         },
         {
          "dimension": 6,
          "embedding": -0.9216960668563843,
          "position": 81
         },
         {
          "dimension": 6,
          "embedding": -0.8954026699066162,
          "position": 82
         },
         {
          "dimension": 6,
          "embedding": -0.8655455708503723,
          "position": 83
         },
         {
          "dimension": 6,
          "embedding": -0.8322440981864929,
          "position": 84
         },
         {
          "dimension": 6,
          "embedding": -0.795630156993866,
          "position": 85
         },
         {
          "dimension": 6,
          "embedding": -0.7558501362800598,
          "position": 86
         },
         {
          "dimension": 6,
          "embedding": -0.7130619883537292,
          "position": 87
         },
         {
          "dimension": 6,
          "embedding": -0.6674357056617737,
          "position": 88
         },
         {
          "dimension": 6,
          "embedding": -0.6191535592079163,
          "position": 89
         },
         {
          "dimension": 6,
          "embedding": -0.5684073567390442,
          "position": 90
         },
         {
          "dimension": 6,
          "embedding": -0.5153986215591431,
          "position": 91
         },
         {
          "dimension": 6,
          "embedding": -0.46033912897109985,
          "position": 92
         },
         {
          "dimension": 6,
          "embedding": -0.40344759821891785,
          "position": 93
         },
         {
          "dimension": 6,
          "embedding": -0.3449500501155853,
          "position": 94
         },
         {
          "dimension": 6,
          "embedding": -0.28508007526397705,
          "position": 95
         },
         {
          "dimension": 6,
          "embedding": -0.22407560050487518,
          "position": 96
         },
         {
          "dimension": 6,
          "embedding": -0.1621788740158081,
          "position": 97
         },
         {
          "dimension": 6,
          "embedding": -0.09963719546794891,
          "position": 98
         },
         {
          "dimension": 6,
          "embedding": -0.03669850528240204,
          "position": 99
         },
         {
          "dimension": 7,
          "embedding": 1,
          "position": 0
         },
         {
          "dimension": 7,
          "embedding": 0.9980100989341736,
          "position": 1
         },
         {
          "dimension": 7,
          "embedding": 0.9920483827590942,
          "position": 2
         },
         {
          "dimension": 7,
          "embedding": 0.9821385741233826,
          "position": 3
         },
         {
          "dimension": 7,
          "embedding": 0.9683201313018799,
          "position": 4
         },
         {
          "dimension": 7,
          "embedding": 0.9506479501724243,
          "position": 5
         },
         {
          "dimension": 7,
          "embedding": 0.9291924834251404,
          "position": 6
         },
         {
          "dimension": 7,
          "embedding": 0.9040390253067017,
          "position": 7
         },
         {
          "dimension": 7,
          "embedding": 0.8752877116203308,
          "position": 8
         },
         {
          "dimension": 7,
          "embedding": 0.8430529236793518,
          "position": 9
         },
         {
          "dimension": 7,
          "embedding": 0.8074630498886108,
          "position": 10
         },
         {
          "dimension": 7,
          "embedding": 0.7686597108840942,
          "position": 11
         },
         {
          "dimension": 7,
          "embedding": 0.7267972826957703,
          "position": 12
         },
         {
          "dimension": 7,
          "embedding": 0.6820423603057861,
          "position": 13
         },
         {
          "dimension": 7,
          "embedding": 0.6345730423927307,
          "position": 14
         },
         {
          "dimension": 7,
          "embedding": 0.5845783352851868,
          "position": 15
         },
         {
          "dimension": 7,
          "embedding": 0.532257080078125,
          "position": 16
         },
         {
          "dimension": 7,
          "embedding": 0.47781768441200256,
          "position": 17
         },
         {
          "dimension": 7,
          "embedding": 0.4214765727519989,
          "position": 18
         },
         {
          "dimension": 7,
          "embedding": 0.36345821619033813,
          "position": 19
         },
         {
          "dimension": 7,
          "embedding": 0.30399325489997864,
          "position": 20
         },
         {
          "dimension": 7,
          "embedding": 0.243318572640419,
          "position": 21
         },
         {
          "dimension": 7,
          "embedding": 0.18167544901371002,
          "position": 22
         },
         {
          "dimension": 7,
          "embedding": 0.11930941045284271,
          "position": 23
         },
         {
          "dimension": 7,
          "embedding": 0.056468550115823746,
          "position": 24
         },
         {
          "dimension": 7,
          "embedding": -0.006597157102078199,
          "position": 25
         },
         {
          "dimension": 7,
          "embedding": -0.06963648647069931,
          "position": 26
         },
         {
          "dimension": 7,
          "embedding": -0.1323987990617752,
          "position": 27
         },
         {
          "dimension": 7,
          "embedding": -0.1946340948343277,
          "position": 28
         },
         {
          "dimension": 7,
          "embedding": -0.25609490275382996,
          "position": 29
         },
         {
          "dimension": 7,
          "embedding": -0.31653639674186707,
          "position": 30
         },
         {
          "dimension": 7,
          "embedding": -0.37571826577186584,
          "position": 31
         },
         {
          "dimension": 7,
          "embedding": -0.43340474367141724,
          "position": 32
         },
         {
          "dimension": 7,
          "embedding": -0.4893665015697479,
          "position": 33
         },
         {
          "dimension": 7,
          "embedding": -0.5433804988861084,
          "position": 34
         },
         {
          "dimension": 7,
          "embedding": -0.5952321887016296,
          "position": 35
         },
         {
          "dimension": 7,
          "embedding": -0.6447150111198425,
          "position": 36
         },
         {
          "dimension": 7,
          "embedding": -0.6916319727897644,
          "position": 37
         },
         {
          "dimension": 7,
          "embedding": -0.7357962727546692,
          "position": 38
         },
         {
          "dimension": 7,
          "embedding": -0.7770324349403381,
          "position": 39
         },
         {
          "dimension": 7,
          "embedding": -0.8151761889457703,
          "position": 40
         },
         {
          "dimension": 7,
          "embedding": -0.8500756621360779,
          "position": 41
         },
         {
          "dimension": 7,
          "embedding": -0.8815921545028687,
          "position": 42
         },
         {
          "dimension": 7,
          "embedding": -0.9096000790596008,
          "position": 43
         },
         {
          "dimension": 7,
          "embedding": -0.933988094329834,
          "position": 44
         },
         {
          "dimension": 7,
          "embedding": -0.9546589255332947,
          "position": 45
         },
         {
          "dimension": 7,
          "embedding": -0.971530556678772,
          "position": 46
         },
         {
          "dimension": 7,
          "embedding": -0.9845356941223145,
          "position": 47
         },
         {
          "dimension": 7,
          "embedding": -0.9936226010322571,
          "position": 48
         },
         {
          "dimension": 7,
          "embedding": -0.998755156993866,
          "position": 49
         },
         {
          "dimension": 7,
          "embedding": -0.9999129772186279,
          "position": 50
         },
         {
          "dimension": 7,
          "embedding": -0.9970912933349609,
          "position": 51
         },
         {
          "dimension": 7,
          "embedding": -0.9903014898300171,
          "position": 52
         },
         {
          "dimension": 7,
          "embedding": -0.9795705676078796,
          "position": 53
         },
         {
          "dimension": 7,
          "embedding": -0.964941143989563,
          "position": 54
         },
         {
          "dimension": 7,
          "embedding": -0.9464714527130127,
          "position": 55
         },
         {
          "dimension": 7,
          "embedding": -0.9242351651191711,
          "position": 56
         },
         {
          "dimension": 7,
          "embedding": -0.8983205556869507,
          "position": 57
         },
         {
          "dimension": 7,
          "embedding": -0.8688308000564575,
          "position": 58
         },
         {
          "dimension": 7,
          "embedding": -0.8358834981918335,
          "position": 59
         },
         {
          "dimension": 7,
          "embedding": -0.7996094226837158,
          "position": 60
         },
         {
          "dimension": 7,
          "embedding": -0.7601531147956848,
          "position": 61
         },
         {
          "dimension": 7,
          "embedding": -0.7176715731620789,
          "position": 62
         },
         {
          "dimension": 7,
          "embedding": -0.6723340749740601,
          "position": 63
         },
         {
          "dimension": 7,
          "embedding": -0.6243206262588501,
          "position": 64
         },
         {
          "dimension": 7,
          "embedding": -0.5738227963447571,
          "position": 65
         },
         {
          "dimension": 7,
          "embedding": -0.5210408568382263,
          "position": 66
         },
         {
          "dimension": 7,
          "embedding": -0.46618568897247314,
          "position": 67
         },
         {
          "dimension": 7,
          "embedding": -0.4094752371311188,
          "position": 68
         },
         {
          "dimension": 7,
          "embedding": -0.3511347472667694,
          "position": 69
         },
         {
          "dimension": 7,
          "embedding": -0.2913972735404968,
          "position": 70
         },
         {
          "dimension": 7,
          "embedding": -0.23049965500831604,
          "position": 71
         },
         {
          "dimension": 7,
          "embedding": -0.1686851680278778,
          "position": 72
         },
         {
          "dimension": 7,
          "embedding": -0.10619935393333435,
          "position": 73
         },
         {
          "dimension": 7,
          "embedding": -0.04329042136669159,
          "position": 74
         },
         {
          "dimension": 7,
          "embedding": 0.019790323451161385,
          "position": 75
         },
         {
          "dimension": 7,
          "embedding": 0.08279230445623398,
          "position": 76
         },
         {
          "dimension": 7,
          "embedding": 0.14546526968479156,
          "position": 77
         },
         {
          "dimension": 7,
          "embedding": 0.20755885541439056,
          "position": 78
         },
         {
          "dimension": 7,
          "embedding": 0.2688263952732086,
          "position": 79
         },
         {
          "dimension": 7,
          "embedding": 0.3290245532989502,
          "position": 80
         },
         {
          "dimension": 7,
          "embedding": 0.3879128098487854,
          "position": 81
         },
         {
          "dimension": 7,
          "embedding": 0.4452572762966156,
          "position": 82
         },
         {
          "dimension": 7,
          "embedding": 0.5008301138877869,
          "position": 83
         },
         {
          "dimension": 7,
          "embedding": 0.5544094443321228,
          "position": 84
         },
         {
          "dimension": 7,
          "embedding": 0.605782687664032,
          "position": 85
         },
         {
          "dimension": 7,
          "embedding": 0.6547446846961975,
          "position": 86
         },
         {
          "dimension": 7,
          "embedding": 0.7011010050773621,
          "position": 87
         },
         {
          "dimension": 7,
          "embedding": 0.7446674108505249,
          "position": 88
         },
         {
          "dimension": 7,
          "embedding": 0.7852699160575867,
          "position": 89
         },
         {
          "dimension": 7,
          "embedding": 0.8227472901344299,
          "position": 90
         },
         {
          "dimension": 7,
          "embedding": 0.856950581073761,
          "position": 91
         },
         {
          "dimension": 7,
          "embedding": 0.8877431154251099,
          "position": 92
         },
         {
          "dimension": 7,
          "embedding": 0.9150027632713318,
          "position": 93
         },
         {
          "dimension": 7,
          "embedding": 0.9386210441589355,
          "position": 94
         },
         {
          "dimension": 7,
          "embedding": 0.9585037231445312,
          "position": 95
         },
         {
          "dimension": 7,
          "embedding": 0.9745717644691467,
          "position": 96
         },
         {
          "dimension": 7,
          "embedding": 0.9867613911628723,
          "position": 97
         },
         {
          "dimension": 7,
          "embedding": 0.9950238466262817,
          "position": 98
         },
         {
          "dimension": 7,
          "embedding": 0.9993264079093933,
          "position": 99
         }
        ]
       },
       "encoding": {
        "color": {
         "field": "dimension",
         "type": "nominal"
        },
        "x": {
         "field": "position",
         "type": "quantitative"
        },
        "y": {
         "field": "embedding",
         "type": "quantitative"
        }
       },
       "mark": {
        "type": "line"
       },
       "params": [
        {
         "bind": "scales",
         "name": "param_3",
         "select": {
          "encodings": [
           "x",
           "y"
          ],
          "type": "interval"
         }
        }
       ],
       "width": 800
      },
      "text/plain": [
       "<VegaLite 5 object>\n",
       "\n",
       "If you see this message, it means the renderer has not been properly enabled\n",
       "for the frontend that you are using. For more information, see\n",
       "https://altair-viz.github.io/user_guide/display_frontends.html#troubleshooting\n"
      ]
     },
     "execution_count": 31,
     "metadata": {},
     "output_type": "execute_result"
    }
   ],
   "source": [
    "def example_positional():\n",
    "    pe = PositionalEncoding(20, 0)\n",
    "    y = pe.forward(torch.zeros(1, 100, 20))\n",
    "\n",
    "    data = pd.concat(\n",
    "        [\n",
    "            pd.DataFrame(\n",
    "                {\n",
    "                    \"embedding\": y[0, :, dim],\n",
    "                    \"dimension\": dim,\n",
    "                    \"position\": list(range(100)),\n",
    "                }\n",
    "            )\n",
    "            for dim in [4, 5, 6, 7]\n",
    "        ]\n",
    "    )\n",
    "\n",
    "    return (\n",
    "        alt.Chart(data)\n",
    "        .mark_line()\n",
    "        .properties(width=800)\n",
    "        .encode(x=\"position\", y=\"embedding\", color=\"dimension:N\")\n",
    "        .interactive()\n",
    "    )\n",
    "\n",
    "\n",
    "show_example(example_positional)"
   ]
  },
  {
   "cell_type": "markdown",
   "metadata": {},
   "source": [
    "## 注意力机制\n",
    "\n",
    "便捷地克隆模块："
   ]
  },
  {
   "cell_type": "code",
   "execution_count": 32,
   "metadata": {},
   "outputs": [],
   "source": [
    "def clones(module, N):\n",
    "    \"Produce N identical layers.\"\n",
    "    return nn.ModuleList([copy.deepcopy(module) for _ in range(N)])"
   ]
  },
  {
   "cell_type": "markdown",
   "metadata": {},
   "source": [
    "单头注意力（缩放点积注意力，也就是V的参数是缩放点积的softmax）\n",
    "\n",
    "$$ \\mathrm{Attention}(Q, K, V) = \\mathrm{softmax}(\\frac{QK^T}{\\sqrt{d_k}})V $$\n",
    "\n",
    "![](images/ModalNet-19.png)"
   ]
  },
  {
   "cell_type": "code",
   "execution_count": 33,
   "metadata": {},
   "outputs": [],
   "source": [
    "def attention(\n",
    "    query: torch.Tensor,\n",
    "    key: torch.Tensor,\n",
    "    value: torch.Tensor,\n",
    "    mask=None,\n",
    "    dropout=None,\n",
    "):\n",
    "    \"\"\"\n",
    "    传入：Q、K、V\n",
    "    mask：要保留的为 1，不保留的为 0\n",
    "    dropout：一个 dropout 层\n",
    "    \"\"\"\n",
    "    d_k = query.size(-1)  # 张量最后一个维度大小，即 d_model\n",
    "    # 转置：交换后两个维度\n",
    "    # 如果这两个矩阵都是 (a, b, c) 维，那么其实相当于做了个 batch=a 的矩阵乘法\n",
    "    # 如果维度更高也行，反正最后两维是矩阵的行、列\n",
    "    scores = torch.matmul(query, key.transpose(-2, -1)) / math.sqrt(d_k)\n",
    "    # 在训练decoder的时候，我们不想让decoder位置靠前的看到位置靠后的\n",
    "    # 这个masked多头注意力，就是在计算出来注意力评分以后softmax之前，把不想要的v的评分置为负无穷\n",
    "    if mask is not None:\n",
    "        scores = scores.masked_fill(mask == 0, -1e9)\n",
    "    p_attn = scores.softmax(dim=-1)\n",
    "    if dropout is not None:\n",
    "        p_attn = dropout(p_attn)\n",
    "    return torch.matmul(p_attn, value), p_attn"
   ]
  },
  {
   "cell_type": "markdown",
   "metadata": {},
   "source": [
    "多头注意力\n",
    "\n",
    "$$\n",
    "\\mathrm{MultiHead}(Q, K, V) =\n",
    "    \\mathrm{Concat}(\\mathrm{head_1}, ..., \\mathrm{head_h})W^O \\\\\n",
    "    \\text{where}~\\mathrm{head_i} = \\mathrm{Attention}(QW^Q_i, KW^K_i, VW^V_i)\n",
    "$$\n",
    "\n",
    "Where the projections are parameter matrices $W^Q_i \\in\n",
    "\\mathbb{R}^{d_{\\text{model}} \\times d_k}$, $W^K_i \\in\n",
    "\\mathbb{R}^{d_{\\text{model}} \\times d_k}$, $W^V_i \\in\n",
    "\\mathbb{R}^{d_{\\text{model}} \\times d_v}$ and $W^O \\in\n",
    "\\mathbb{R}^{hd_v \\times d_{\\text{model}}}$."
   ]
  },
  {
   "cell_type": "code",
   "execution_count": 34,
   "metadata": {},
   "outputs": [],
   "source": [
    "class MultiHeadedAttention(nn.Module):\n",
    "    \"\"\"\n",
    "    h：头数。必须能整除 d_model\n",
    "    \"\"\"\n",
    "\n",
    "    def __init__(self, h: int, d_model: int, dropout_rate=0.1):\n",
    "        super(MultiHeadedAttention, self).__init__()\n",
    "        assert d_model % h == 0  #\n",
    "        self.d_k = d_model // h  # key 的维度。也用作 value 的维度\n",
    "        self.h = h\n",
    "        # 四个线性变换，前三个用于 Q、K、V 分头投影\n",
    "        # 第四个用于 concat 后的线性变换（投影矩阵 W^O）\n",
    "        # 分成 h x d_k 个矩阵就是分成 1 个 d_model 个矩阵\n",
    "        # 所以这四个线性层变换还可以一样\n",
    "        self.linears = clones(nn.Linear(d_model, d_model), 4)\n",
    "        self.attn = None  # 把多头注意力保存下来后面可以可视化\n",
    "        self.dropout = nn.Dropout(dropout_rate)  # 这玩意也没参数，公用一个也行\n",
    "\n",
    "    def forward(\n",
    "        self, query: torch.Tensor, key: torch.Tensor, value: torch.Tensor, mask=None\n",
    "    ):\n",
    "        nbatches = query.size(0)\n",
    "\n",
    "        # 1. 线性映射。把 d_model 的 query/key/value -> h x d_k\n",
    "        # 即 (batch_size, seq_len, d_model) -> (batch_size, seq_len, h, d_k)\n",
    "        # 再转置一把，变成 (batch_size, h, seq_len, d_k)\n",
    "        query, key, value = [\n",
    "            lin(x).view(nbatches, -1, self.h, self.d_k).transpose(1, 2)\n",
    "            for lin, x in zip(self.linears, (query, key, value))\n",
    "        ]\n",
    "        # 2. mask 扩充。(batch_size, seq_len, seq_len) -> (batch_size, 1, seq_len, seq_len)\n",
    "        if mask is not None:\n",
    "            # Same mask applied to all h heads.\n",
    "            mask = mask.unsqueeze(1)\n",
    "        # 3. 多头注意力计算\n",
    "        x, self.attn = attention(query, key, value, mask, self.dropout)\n",
    "        # 4. concat\n",
    "        # 复原张量。把内存变连续，然后才能 view\n",
    "        x = x.transpose(1, 2).contiguous().view(nbatches, -1, self.h * self.d_k)\n",
    "        del query\n",
    "        del key\n",
    "        del value\n",
    "        # 5. 线性计算\n",
    "        return self.linears[-1](x)"
   ]
  },
  {
   "cell_type": "markdown",
   "metadata": {},
   "source": [
    "### 生成 mask"
   ]
  },
  {
   "cell_type": "code",
   "execution_count": 35,
   "metadata": {},
   "outputs": [],
   "source": [
    "def subsequent_mask(size: int):\n",
    "    \"Mask out subsequent positions.\"\n",
    "    attn_shape = (1, size, size)\n",
    "    subsequent_mask = torch.triu(torch.ones(attn_shape), diagonal=1).type(torch.uint8)\n",
    "    # 生成符合形状的下三角\n",
    "    return subsequent_mask == 0"
   ]
  },
  {
   "cell_type": "code",
   "execution_count": 36,
   "metadata": {},
   "outputs": [
    {
     "data": {
      "application/vnd.vegalite.v5+json": {
       "$schema": "https://vega.github.io/schema/vega-lite/v5.17.0.json",
       "config": {
        "view": {
         "continuousHeight": 300,
         "continuousWidth": 300
        }
       },
       "data": {
        "name": "data-b1e327ac8c79b2564320d4813313cbb8"
       },
       "datasets": {
        "data-b1e327ac8c79b2564320d4813313cbb8": [
         {
          "Masking": 0,
          "Subsequent Mask": true,
          "Window": 0
         },
         {
          "Masking": 1,
          "Subsequent Mask": true,
          "Window": 0
         },
         {
          "Masking": 2,
          "Subsequent Mask": true,
          "Window": 0
         },
         {
          "Masking": 3,
          "Subsequent Mask": true,
          "Window": 0
         },
         {
          "Masking": 4,
          "Subsequent Mask": true,
          "Window": 0
         },
         {
          "Masking": 5,
          "Subsequent Mask": true,
          "Window": 0
         },
         {
          "Masking": 6,
          "Subsequent Mask": true,
          "Window": 0
         },
         {
          "Masking": 7,
          "Subsequent Mask": true,
          "Window": 0
         },
         {
          "Masking": 8,
          "Subsequent Mask": true,
          "Window": 0
         },
         {
          "Masking": 9,
          "Subsequent Mask": true,
          "Window": 0
         },
         {
          "Masking": 10,
          "Subsequent Mask": true,
          "Window": 0
         },
         {
          "Masking": 11,
          "Subsequent Mask": true,
          "Window": 0
         },
         {
          "Masking": 12,
          "Subsequent Mask": true,
          "Window": 0
         },
         {
          "Masking": 13,
          "Subsequent Mask": true,
          "Window": 0
         },
         {
          "Masking": 14,
          "Subsequent Mask": true,
          "Window": 0
         },
         {
          "Masking": 15,
          "Subsequent Mask": true,
          "Window": 0
         },
         {
          "Masking": 16,
          "Subsequent Mask": true,
          "Window": 0
         },
         {
          "Masking": 17,
          "Subsequent Mask": true,
          "Window": 0
         },
         {
          "Masking": 18,
          "Subsequent Mask": true,
          "Window": 0
         },
         {
          "Masking": 19,
          "Subsequent Mask": true,
          "Window": 0
         },
         {
          "Masking": 0,
          "Subsequent Mask": false,
          "Window": 1
         },
         {
          "Masking": 1,
          "Subsequent Mask": true,
          "Window": 1
         },
         {
          "Masking": 2,
          "Subsequent Mask": true,
          "Window": 1
         },
         {
          "Masking": 3,
          "Subsequent Mask": true,
          "Window": 1
         },
         {
          "Masking": 4,
          "Subsequent Mask": true,
          "Window": 1
         },
         {
          "Masking": 5,
          "Subsequent Mask": true,
          "Window": 1
         },
         {
          "Masking": 6,
          "Subsequent Mask": true,
          "Window": 1
         },
         {
          "Masking": 7,
          "Subsequent Mask": true,
          "Window": 1
         },
         {
          "Masking": 8,
          "Subsequent Mask": true,
          "Window": 1
         },
         {
          "Masking": 9,
          "Subsequent Mask": true,
          "Window": 1
         },
         {
          "Masking": 10,
          "Subsequent Mask": true,
          "Window": 1
         },
         {
          "Masking": 11,
          "Subsequent Mask": true,
          "Window": 1
         },
         {
          "Masking": 12,
          "Subsequent Mask": true,
          "Window": 1
         },
         {
          "Masking": 13,
          "Subsequent Mask": true,
          "Window": 1
         },
         {
          "Masking": 14,
          "Subsequent Mask": true,
          "Window": 1
         },
         {
          "Masking": 15,
          "Subsequent Mask": true,
          "Window": 1
         },
         {
          "Masking": 16,
          "Subsequent Mask": true,
          "Window": 1
         },
         {
          "Masking": 17,
          "Subsequent Mask": true,
          "Window": 1
         },
         {
          "Masking": 18,
          "Subsequent Mask": true,
          "Window": 1
         },
         {
          "Masking": 19,
          "Subsequent Mask": true,
          "Window": 1
         },
         {
          "Masking": 0,
          "Subsequent Mask": false,
          "Window": 2
         },
         {
          "Masking": 1,
          "Subsequent Mask": false,
          "Window": 2
         },
         {
          "Masking": 2,
          "Subsequent Mask": true,
          "Window": 2
         },
         {
          "Masking": 3,
          "Subsequent Mask": true,
          "Window": 2
         },
         {
          "Masking": 4,
          "Subsequent Mask": true,
          "Window": 2
         },
         {
          "Masking": 5,
          "Subsequent Mask": true,
          "Window": 2
         },
         {
          "Masking": 6,
          "Subsequent Mask": true,
          "Window": 2
         },
         {
          "Masking": 7,
          "Subsequent Mask": true,
          "Window": 2
         },
         {
          "Masking": 8,
          "Subsequent Mask": true,
          "Window": 2
         },
         {
          "Masking": 9,
          "Subsequent Mask": true,
          "Window": 2
         },
         {
          "Masking": 10,
          "Subsequent Mask": true,
          "Window": 2
         },
         {
          "Masking": 11,
          "Subsequent Mask": true,
          "Window": 2
         },
         {
          "Masking": 12,
          "Subsequent Mask": true,
          "Window": 2
         },
         {
          "Masking": 13,
          "Subsequent Mask": true,
          "Window": 2
         },
         {
          "Masking": 14,
          "Subsequent Mask": true,
          "Window": 2
         },
         {
          "Masking": 15,
          "Subsequent Mask": true,
          "Window": 2
         },
         {
          "Masking": 16,
          "Subsequent Mask": true,
          "Window": 2
         },
         {
          "Masking": 17,
          "Subsequent Mask": true,
          "Window": 2
         },
         {
          "Masking": 18,
          "Subsequent Mask": true,
          "Window": 2
         },
         {
          "Masking": 19,
          "Subsequent Mask": true,
          "Window": 2
         },
         {
          "Masking": 0,
          "Subsequent Mask": false,
          "Window": 3
         },
         {
          "Masking": 1,
          "Subsequent Mask": false,
          "Window": 3
         },
         {
          "Masking": 2,
          "Subsequent Mask": false,
          "Window": 3
         },
         {
          "Masking": 3,
          "Subsequent Mask": true,
          "Window": 3
         },
         {
          "Masking": 4,
          "Subsequent Mask": true,
          "Window": 3
         },
         {
          "Masking": 5,
          "Subsequent Mask": true,
          "Window": 3
         },
         {
          "Masking": 6,
          "Subsequent Mask": true,
          "Window": 3
         },
         {
          "Masking": 7,
          "Subsequent Mask": true,
          "Window": 3
         },
         {
          "Masking": 8,
          "Subsequent Mask": true,
          "Window": 3
         },
         {
          "Masking": 9,
          "Subsequent Mask": true,
          "Window": 3
         },
         {
          "Masking": 10,
          "Subsequent Mask": true,
          "Window": 3
         },
         {
          "Masking": 11,
          "Subsequent Mask": true,
          "Window": 3
         },
         {
          "Masking": 12,
          "Subsequent Mask": true,
          "Window": 3
         },
         {
          "Masking": 13,
          "Subsequent Mask": true,
          "Window": 3
         },
         {
          "Masking": 14,
          "Subsequent Mask": true,
          "Window": 3
         },
         {
          "Masking": 15,
          "Subsequent Mask": true,
          "Window": 3
         },
         {
          "Masking": 16,
          "Subsequent Mask": true,
          "Window": 3
         },
         {
          "Masking": 17,
          "Subsequent Mask": true,
          "Window": 3
         },
         {
          "Masking": 18,
          "Subsequent Mask": true,
          "Window": 3
         },
         {
          "Masking": 19,
          "Subsequent Mask": true,
          "Window": 3
         },
         {
          "Masking": 0,
          "Subsequent Mask": false,
          "Window": 4
         },
         {
          "Masking": 1,
          "Subsequent Mask": false,
          "Window": 4
         },
         {
          "Masking": 2,
          "Subsequent Mask": false,
          "Window": 4
         },
         {
          "Masking": 3,
          "Subsequent Mask": false,
          "Window": 4
         },
         {
          "Masking": 4,
          "Subsequent Mask": true,
          "Window": 4
         },
         {
          "Masking": 5,
          "Subsequent Mask": true,
          "Window": 4
         },
         {
          "Masking": 6,
          "Subsequent Mask": true,
          "Window": 4
         },
         {
          "Masking": 7,
          "Subsequent Mask": true,
          "Window": 4
         },
         {
          "Masking": 8,
          "Subsequent Mask": true,
          "Window": 4
         },
         {
          "Masking": 9,
          "Subsequent Mask": true,
          "Window": 4
         },
         {
          "Masking": 10,
          "Subsequent Mask": true,
          "Window": 4
         },
         {
          "Masking": 11,
          "Subsequent Mask": true,
          "Window": 4
         },
         {
          "Masking": 12,
          "Subsequent Mask": true,
          "Window": 4
         },
         {
          "Masking": 13,
          "Subsequent Mask": true,
          "Window": 4
         },
         {
          "Masking": 14,
          "Subsequent Mask": true,
          "Window": 4
         },
         {
          "Masking": 15,
          "Subsequent Mask": true,
          "Window": 4
         },
         {
          "Masking": 16,
          "Subsequent Mask": true,
          "Window": 4
         },
         {
          "Masking": 17,
          "Subsequent Mask": true,
          "Window": 4
         },
         {
          "Masking": 18,
          "Subsequent Mask": true,
          "Window": 4
         },
         {
          "Masking": 19,
          "Subsequent Mask": true,
          "Window": 4
         },
         {
          "Masking": 0,
          "Subsequent Mask": false,
          "Window": 5
         },
         {
          "Masking": 1,
          "Subsequent Mask": false,
          "Window": 5
         },
         {
          "Masking": 2,
          "Subsequent Mask": false,
          "Window": 5
         },
         {
          "Masking": 3,
          "Subsequent Mask": false,
          "Window": 5
         },
         {
          "Masking": 4,
          "Subsequent Mask": false,
          "Window": 5
         },
         {
          "Masking": 5,
          "Subsequent Mask": true,
          "Window": 5
         },
         {
          "Masking": 6,
          "Subsequent Mask": true,
          "Window": 5
         },
         {
          "Masking": 7,
          "Subsequent Mask": true,
          "Window": 5
         },
         {
          "Masking": 8,
          "Subsequent Mask": true,
          "Window": 5
         },
         {
          "Masking": 9,
          "Subsequent Mask": true,
          "Window": 5
         },
         {
          "Masking": 10,
          "Subsequent Mask": true,
          "Window": 5
         },
         {
          "Masking": 11,
          "Subsequent Mask": true,
          "Window": 5
         },
         {
          "Masking": 12,
          "Subsequent Mask": true,
          "Window": 5
         },
         {
          "Masking": 13,
          "Subsequent Mask": true,
          "Window": 5
         },
         {
          "Masking": 14,
          "Subsequent Mask": true,
          "Window": 5
         },
         {
          "Masking": 15,
          "Subsequent Mask": true,
          "Window": 5
         },
         {
          "Masking": 16,
          "Subsequent Mask": true,
          "Window": 5
         },
         {
          "Masking": 17,
          "Subsequent Mask": true,
          "Window": 5
         },
         {
          "Masking": 18,
          "Subsequent Mask": true,
          "Window": 5
         },
         {
          "Masking": 19,
          "Subsequent Mask": true,
          "Window": 5
         },
         {
          "Masking": 0,
          "Subsequent Mask": false,
          "Window": 6
         },
         {
          "Masking": 1,
          "Subsequent Mask": false,
          "Window": 6
         },
         {
          "Masking": 2,
          "Subsequent Mask": false,
          "Window": 6
         },
         {
          "Masking": 3,
          "Subsequent Mask": false,
          "Window": 6
         },
         {
          "Masking": 4,
          "Subsequent Mask": false,
          "Window": 6
         },
         {
          "Masking": 5,
          "Subsequent Mask": false,
          "Window": 6
         },
         {
          "Masking": 6,
          "Subsequent Mask": true,
          "Window": 6
         },
         {
          "Masking": 7,
          "Subsequent Mask": true,
          "Window": 6
         },
         {
          "Masking": 8,
          "Subsequent Mask": true,
          "Window": 6
         },
         {
          "Masking": 9,
          "Subsequent Mask": true,
          "Window": 6
         },
         {
          "Masking": 10,
          "Subsequent Mask": true,
          "Window": 6
         },
         {
          "Masking": 11,
          "Subsequent Mask": true,
          "Window": 6
         },
         {
          "Masking": 12,
          "Subsequent Mask": true,
          "Window": 6
         },
         {
          "Masking": 13,
          "Subsequent Mask": true,
          "Window": 6
         },
         {
          "Masking": 14,
          "Subsequent Mask": true,
          "Window": 6
         },
         {
          "Masking": 15,
          "Subsequent Mask": true,
          "Window": 6
         },
         {
          "Masking": 16,
          "Subsequent Mask": true,
          "Window": 6
         },
         {
          "Masking": 17,
          "Subsequent Mask": true,
          "Window": 6
         },
         {
          "Masking": 18,
          "Subsequent Mask": true,
          "Window": 6
         },
         {
          "Masking": 19,
          "Subsequent Mask": true,
          "Window": 6
         },
         {
          "Masking": 0,
          "Subsequent Mask": false,
          "Window": 7
         },
         {
          "Masking": 1,
          "Subsequent Mask": false,
          "Window": 7
         },
         {
          "Masking": 2,
          "Subsequent Mask": false,
          "Window": 7
         },
         {
          "Masking": 3,
          "Subsequent Mask": false,
          "Window": 7
         },
         {
          "Masking": 4,
          "Subsequent Mask": false,
          "Window": 7
         },
         {
          "Masking": 5,
          "Subsequent Mask": false,
          "Window": 7
         },
         {
          "Masking": 6,
          "Subsequent Mask": false,
          "Window": 7
         },
         {
          "Masking": 7,
          "Subsequent Mask": true,
          "Window": 7
         },
         {
          "Masking": 8,
          "Subsequent Mask": true,
          "Window": 7
         },
         {
          "Masking": 9,
          "Subsequent Mask": true,
          "Window": 7
         },
         {
          "Masking": 10,
          "Subsequent Mask": true,
          "Window": 7
         },
         {
          "Masking": 11,
          "Subsequent Mask": true,
          "Window": 7
         },
         {
          "Masking": 12,
          "Subsequent Mask": true,
          "Window": 7
         },
         {
          "Masking": 13,
          "Subsequent Mask": true,
          "Window": 7
         },
         {
          "Masking": 14,
          "Subsequent Mask": true,
          "Window": 7
         },
         {
          "Masking": 15,
          "Subsequent Mask": true,
          "Window": 7
         },
         {
          "Masking": 16,
          "Subsequent Mask": true,
          "Window": 7
         },
         {
          "Masking": 17,
          "Subsequent Mask": true,
          "Window": 7
         },
         {
          "Masking": 18,
          "Subsequent Mask": true,
          "Window": 7
         },
         {
          "Masking": 19,
          "Subsequent Mask": true,
          "Window": 7
         },
         {
          "Masking": 0,
          "Subsequent Mask": false,
          "Window": 8
         },
         {
          "Masking": 1,
          "Subsequent Mask": false,
          "Window": 8
         },
         {
          "Masking": 2,
          "Subsequent Mask": false,
          "Window": 8
         },
         {
          "Masking": 3,
          "Subsequent Mask": false,
          "Window": 8
         },
         {
          "Masking": 4,
          "Subsequent Mask": false,
          "Window": 8
         },
         {
          "Masking": 5,
          "Subsequent Mask": false,
          "Window": 8
         },
         {
          "Masking": 6,
          "Subsequent Mask": false,
          "Window": 8
         },
         {
          "Masking": 7,
          "Subsequent Mask": false,
          "Window": 8
         },
         {
          "Masking": 8,
          "Subsequent Mask": true,
          "Window": 8
         },
         {
          "Masking": 9,
          "Subsequent Mask": true,
          "Window": 8
         },
         {
          "Masking": 10,
          "Subsequent Mask": true,
          "Window": 8
         },
         {
          "Masking": 11,
          "Subsequent Mask": true,
          "Window": 8
         },
         {
          "Masking": 12,
          "Subsequent Mask": true,
          "Window": 8
         },
         {
          "Masking": 13,
          "Subsequent Mask": true,
          "Window": 8
         },
         {
          "Masking": 14,
          "Subsequent Mask": true,
          "Window": 8
         },
         {
          "Masking": 15,
          "Subsequent Mask": true,
          "Window": 8
         },
         {
          "Masking": 16,
          "Subsequent Mask": true,
          "Window": 8
         },
         {
          "Masking": 17,
          "Subsequent Mask": true,
          "Window": 8
         },
         {
          "Masking": 18,
          "Subsequent Mask": true,
          "Window": 8
         },
         {
          "Masking": 19,
          "Subsequent Mask": true,
          "Window": 8
         },
         {
          "Masking": 0,
          "Subsequent Mask": false,
          "Window": 9
         },
         {
          "Masking": 1,
          "Subsequent Mask": false,
          "Window": 9
         },
         {
          "Masking": 2,
          "Subsequent Mask": false,
          "Window": 9
         },
         {
          "Masking": 3,
          "Subsequent Mask": false,
          "Window": 9
         },
         {
          "Masking": 4,
          "Subsequent Mask": false,
          "Window": 9
         },
         {
          "Masking": 5,
          "Subsequent Mask": false,
          "Window": 9
         },
         {
          "Masking": 6,
          "Subsequent Mask": false,
          "Window": 9
         },
         {
          "Masking": 7,
          "Subsequent Mask": false,
          "Window": 9
         },
         {
          "Masking": 8,
          "Subsequent Mask": false,
          "Window": 9
         },
         {
          "Masking": 9,
          "Subsequent Mask": true,
          "Window": 9
         },
         {
          "Masking": 10,
          "Subsequent Mask": true,
          "Window": 9
         },
         {
          "Masking": 11,
          "Subsequent Mask": true,
          "Window": 9
         },
         {
          "Masking": 12,
          "Subsequent Mask": true,
          "Window": 9
         },
         {
          "Masking": 13,
          "Subsequent Mask": true,
          "Window": 9
         },
         {
          "Masking": 14,
          "Subsequent Mask": true,
          "Window": 9
         },
         {
          "Masking": 15,
          "Subsequent Mask": true,
          "Window": 9
         },
         {
          "Masking": 16,
          "Subsequent Mask": true,
          "Window": 9
         },
         {
          "Masking": 17,
          "Subsequent Mask": true,
          "Window": 9
         },
         {
          "Masking": 18,
          "Subsequent Mask": true,
          "Window": 9
         },
         {
          "Masking": 19,
          "Subsequent Mask": true,
          "Window": 9
         },
         {
          "Masking": 0,
          "Subsequent Mask": false,
          "Window": 10
         },
         {
          "Masking": 1,
          "Subsequent Mask": false,
          "Window": 10
         },
         {
          "Masking": 2,
          "Subsequent Mask": false,
          "Window": 10
         },
         {
          "Masking": 3,
          "Subsequent Mask": false,
          "Window": 10
         },
         {
          "Masking": 4,
          "Subsequent Mask": false,
          "Window": 10
         },
         {
          "Masking": 5,
          "Subsequent Mask": false,
          "Window": 10
         },
         {
          "Masking": 6,
          "Subsequent Mask": false,
          "Window": 10
         },
         {
          "Masking": 7,
          "Subsequent Mask": false,
          "Window": 10
         },
         {
          "Masking": 8,
          "Subsequent Mask": false,
          "Window": 10
         },
         {
          "Masking": 9,
          "Subsequent Mask": false,
          "Window": 10
         },
         {
          "Masking": 10,
          "Subsequent Mask": true,
          "Window": 10
         },
         {
          "Masking": 11,
          "Subsequent Mask": true,
          "Window": 10
         },
         {
          "Masking": 12,
          "Subsequent Mask": true,
          "Window": 10
         },
         {
          "Masking": 13,
          "Subsequent Mask": true,
          "Window": 10
         },
         {
          "Masking": 14,
          "Subsequent Mask": true,
          "Window": 10
         },
         {
          "Masking": 15,
          "Subsequent Mask": true,
          "Window": 10
         },
         {
          "Masking": 16,
          "Subsequent Mask": true,
          "Window": 10
         },
         {
          "Masking": 17,
          "Subsequent Mask": true,
          "Window": 10
         },
         {
          "Masking": 18,
          "Subsequent Mask": true,
          "Window": 10
         },
         {
          "Masking": 19,
          "Subsequent Mask": true,
          "Window": 10
         },
         {
          "Masking": 0,
          "Subsequent Mask": false,
          "Window": 11
         },
         {
          "Masking": 1,
          "Subsequent Mask": false,
          "Window": 11
         },
         {
          "Masking": 2,
          "Subsequent Mask": false,
          "Window": 11
         },
         {
          "Masking": 3,
          "Subsequent Mask": false,
          "Window": 11
         },
         {
          "Masking": 4,
          "Subsequent Mask": false,
          "Window": 11
         },
         {
          "Masking": 5,
          "Subsequent Mask": false,
          "Window": 11
         },
         {
          "Masking": 6,
          "Subsequent Mask": false,
          "Window": 11
         },
         {
          "Masking": 7,
          "Subsequent Mask": false,
          "Window": 11
         },
         {
          "Masking": 8,
          "Subsequent Mask": false,
          "Window": 11
         },
         {
          "Masking": 9,
          "Subsequent Mask": false,
          "Window": 11
         },
         {
          "Masking": 10,
          "Subsequent Mask": false,
          "Window": 11
         },
         {
          "Masking": 11,
          "Subsequent Mask": true,
          "Window": 11
         },
         {
          "Masking": 12,
          "Subsequent Mask": true,
          "Window": 11
         },
         {
          "Masking": 13,
          "Subsequent Mask": true,
          "Window": 11
         },
         {
          "Masking": 14,
          "Subsequent Mask": true,
          "Window": 11
         },
         {
          "Masking": 15,
          "Subsequent Mask": true,
          "Window": 11
         },
         {
          "Masking": 16,
          "Subsequent Mask": true,
          "Window": 11
         },
         {
          "Masking": 17,
          "Subsequent Mask": true,
          "Window": 11
         },
         {
          "Masking": 18,
          "Subsequent Mask": true,
          "Window": 11
         },
         {
          "Masking": 19,
          "Subsequent Mask": true,
          "Window": 11
         },
         {
          "Masking": 0,
          "Subsequent Mask": false,
          "Window": 12
         },
         {
          "Masking": 1,
          "Subsequent Mask": false,
          "Window": 12
         },
         {
          "Masking": 2,
          "Subsequent Mask": false,
          "Window": 12
         },
         {
          "Masking": 3,
          "Subsequent Mask": false,
          "Window": 12
         },
         {
          "Masking": 4,
          "Subsequent Mask": false,
          "Window": 12
         },
         {
          "Masking": 5,
          "Subsequent Mask": false,
          "Window": 12
         },
         {
          "Masking": 6,
          "Subsequent Mask": false,
          "Window": 12
         },
         {
          "Masking": 7,
          "Subsequent Mask": false,
          "Window": 12
         },
         {
          "Masking": 8,
          "Subsequent Mask": false,
          "Window": 12
         },
         {
          "Masking": 9,
          "Subsequent Mask": false,
          "Window": 12
         },
         {
          "Masking": 10,
          "Subsequent Mask": false,
          "Window": 12
         },
         {
          "Masking": 11,
          "Subsequent Mask": false,
          "Window": 12
         },
         {
          "Masking": 12,
          "Subsequent Mask": true,
          "Window": 12
         },
         {
          "Masking": 13,
          "Subsequent Mask": true,
          "Window": 12
         },
         {
          "Masking": 14,
          "Subsequent Mask": true,
          "Window": 12
         },
         {
          "Masking": 15,
          "Subsequent Mask": true,
          "Window": 12
         },
         {
          "Masking": 16,
          "Subsequent Mask": true,
          "Window": 12
         },
         {
          "Masking": 17,
          "Subsequent Mask": true,
          "Window": 12
         },
         {
          "Masking": 18,
          "Subsequent Mask": true,
          "Window": 12
         },
         {
          "Masking": 19,
          "Subsequent Mask": true,
          "Window": 12
         },
         {
          "Masking": 0,
          "Subsequent Mask": false,
          "Window": 13
         },
         {
          "Masking": 1,
          "Subsequent Mask": false,
          "Window": 13
         },
         {
          "Masking": 2,
          "Subsequent Mask": false,
          "Window": 13
         },
         {
          "Masking": 3,
          "Subsequent Mask": false,
          "Window": 13
         },
         {
          "Masking": 4,
          "Subsequent Mask": false,
          "Window": 13
         },
         {
          "Masking": 5,
          "Subsequent Mask": false,
          "Window": 13
         },
         {
          "Masking": 6,
          "Subsequent Mask": false,
          "Window": 13
         },
         {
          "Masking": 7,
          "Subsequent Mask": false,
          "Window": 13
         },
         {
          "Masking": 8,
          "Subsequent Mask": false,
          "Window": 13
         },
         {
          "Masking": 9,
          "Subsequent Mask": false,
          "Window": 13
         },
         {
          "Masking": 10,
          "Subsequent Mask": false,
          "Window": 13
         },
         {
          "Masking": 11,
          "Subsequent Mask": false,
          "Window": 13
         },
         {
          "Masking": 12,
          "Subsequent Mask": false,
          "Window": 13
         },
         {
          "Masking": 13,
          "Subsequent Mask": true,
          "Window": 13
         },
         {
          "Masking": 14,
          "Subsequent Mask": true,
          "Window": 13
         },
         {
          "Masking": 15,
          "Subsequent Mask": true,
          "Window": 13
         },
         {
          "Masking": 16,
          "Subsequent Mask": true,
          "Window": 13
         },
         {
          "Masking": 17,
          "Subsequent Mask": true,
          "Window": 13
         },
         {
          "Masking": 18,
          "Subsequent Mask": true,
          "Window": 13
         },
         {
          "Masking": 19,
          "Subsequent Mask": true,
          "Window": 13
         },
         {
          "Masking": 0,
          "Subsequent Mask": false,
          "Window": 14
         },
         {
          "Masking": 1,
          "Subsequent Mask": false,
          "Window": 14
         },
         {
          "Masking": 2,
          "Subsequent Mask": false,
          "Window": 14
         },
         {
          "Masking": 3,
          "Subsequent Mask": false,
          "Window": 14
         },
         {
          "Masking": 4,
          "Subsequent Mask": false,
          "Window": 14
         },
         {
          "Masking": 5,
          "Subsequent Mask": false,
          "Window": 14
         },
         {
          "Masking": 6,
          "Subsequent Mask": false,
          "Window": 14
         },
         {
          "Masking": 7,
          "Subsequent Mask": false,
          "Window": 14
         },
         {
          "Masking": 8,
          "Subsequent Mask": false,
          "Window": 14
         },
         {
          "Masking": 9,
          "Subsequent Mask": false,
          "Window": 14
         },
         {
          "Masking": 10,
          "Subsequent Mask": false,
          "Window": 14
         },
         {
          "Masking": 11,
          "Subsequent Mask": false,
          "Window": 14
         },
         {
          "Masking": 12,
          "Subsequent Mask": false,
          "Window": 14
         },
         {
          "Masking": 13,
          "Subsequent Mask": false,
          "Window": 14
         },
         {
          "Masking": 14,
          "Subsequent Mask": true,
          "Window": 14
         },
         {
          "Masking": 15,
          "Subsequent Mask": true,
          "Window": 14
         },
         {
          "Masking": 16,
          "Subsequent Mask": true,
          "Window": 14
         },
         {
          "Masking": 17,
          "Subsequent Mask": true,
          "Window": 14
         },
         {
          "Masking": 18,
          "Subsequent Mask": true,
          "Window": 14
         },
         {
          "Masking": 19,
          "Subsequent Mask": true,
          "Window": 14
         },
         {
          "Masking": 0,
          "Subsequent Mask": false,
          "Window": 15
         },
         {
          "Masking": 1,
          "Subsequent Mask": false,
          "Window": 15
         },
         {
          "Masking": 2,
          "Subsequent Mask": false,
          "Window": 15
         },
         {
          "Masking": 3,
          "Subsequent Mask": false,
          "Window": 15
         },
         {
          "Masking": 4,
          "Subsequent Mask": false,
          "Window": 15
         },
         {
          "Masking": 5,
          "Subsequent Mask": false,
          "Window": 15
         },
         {
          "Masking": 6,
          "Subsequent Mask": false,
          "Window": 15
         },
         {
          "Masking": 7,
          "Subsequent Mask": false,
          "Window": 15
         },
         {
          "Masking": 8,
          "Subsequent Mask": false,
          "Window": 15
         },
         {
          "Masking": 9,
          "Subsequent Mask": false,
          "Window": 15
         },
         {
          "Masking": 10,
          "Subsequent Mask": false,
          "Window": 15
         },
         {
          "Masking": 11,
          "Subsequent Mask": false,
          "Window": 15
         },
         {
          "Masking": 12,
          "Subsequent Mask": false,
          "Window": 15
         },
         {
          "Masking": 13,
          "Subsequent Mask": false,
          "Window": 15
         },
         {
          "Masking": 14,
          "Subsequent Mask": false,
          "Window": 15
         },
         {
          "Masking": 15,
          "Subsequent Mask": true,
          "Window": 15
         },
         {
          "Masking": 16,
          "Subsequent Mask": true,
          "Window": 15
         },
         {
          "Masking": 17,
          "Subsequent Mask": true,
          "Window": 15
         },
         {
          "Masking": 18,
          "Subsequent Mask": true,
          "Window": 15
         },
         {
          "Masking": 19,
          "Subsequent Mask": true,
          "Window": 15
         },
         {
          "Masking": 0,
          "Subsequent Mask": false,
          "Window": 16
         },
         {
          "Masking": 1,
          "Subsequent Mask": false,
          "Window": 16
         },
         {
          "Masking": 2,
          "Subsequent Mask": false,
          "Window": 16
         },
         {
          "Masking": 3,
          "Subsequent Mask": false,
          "Window": 16
         },
         {
          "Masking": 4,
          "Subsequent Mask": false,
          "Window": 16
         },
         {
          "Masking": 5,
          "Subsequent Mask": false,
          "Window": 16
         },
         {
          "Masking": 6,
          "Subsequent Mask": false,
          "Window": 16
         },
         {
          "Masking": 7,
          "Subsequent Mask": false,
          "Window": 16
         },
         {
          "Masking": 8,
          "Subsequent Mask": false,
          "Window": 16
         },
         {
          "Masking": 9,
          "Subsequent Mask": false,
          "Window": 16
         },
         {
          "Masking": 10,
          "Subsequent Mask": false,
          "Window": 16
         },
         {
          "Masking": 11,
          "Subsequent Mask": false,
          "Window": 16
         },
         {
          "Masking": 12,
          "Subsequent Mask": false,
          "Window": 16
         },
         {
          "Masking": 13,
          "Subsequent Mask": false,
          "Window": 16
         },
         {
          "Masking": 14,
          "Subsequent Mask": false,
          "Window": 16
         },
         {
          "Masking": 15,
          "Subsequent Mask": false,
          "Window": 16
         },
         {
          "Masking": 16,
          "Subsequent Mask": true,
          "Window": 16
         },
         {
          "Masking": 17,
          "Subsequent Mask": true,
          "Window": 16
         },
         {
          "Masking": 18,
          "Subsequent Mask": true,
          "Window": 16
         },
         {
          "Masking": 19,
          "Subsequent Mask": true,
          "Window": 16
         },
         {
          "Masking": 0,
          "Subsequent Mask": false,
          "Window": 17
         },
         {
          "Masking": 1,
          "Subsequent Mask": false,
          "Window": 17
         },
         {
          "Masking": 2,
          "Subsequent Mask": false,
          "Window": 17
         },
         {
          "Masking": 3,
          "Subsequent Mask": false,
          "Window": 17
         },
         {
          "Masking": 4,
          "Subsequent Mask": false,
          "Window": 17
         },
         {
          "Masking": 5,
          "Subsequent Mask": false,
          "Window": 17
         },
         {
          "Masking": 6,
          "Subsequent Mask": false,
          "Window": 17
         },
         {
          "Masking": 7,
          "Subsequent Mask": false,
          "Window": 17
         },
         {
          "Masking": 8,
          "Subsequent Mask": false,
          "Window": 17
         },
         {
          "Masking": 9,
          "Subsequent Mask": false,
          "Window": 17
         },
         {
          "Masking": 10,
          "Subsequent Mask": false,
          "Window": 17
         },
         {
          "Masking": 11,
          "Subsequent Mask": false,
          "Window": 17
         },
         {
          "Masking": 12,
          "Subsequent Mask": false,
          "Window": 17
         },
         {
          "Masking": 13,
          "Subsequent Mask": false,
          "Window": 17
         },
         {
          "Masking": 14,
          "Subsequent Mask": false,
          "Window": 17
         },
         {
          "Masking": 15,
          "Subsequent Mask": false,
          "Window": 17
         },
         {
          "Masking": 16,
          "Subsequent Mask": false,
          "Window": 17
         },
         {
          "Masking": 17,
          "Subsequent Mask": true,
          "Window": 17
         },
         {
          "Masking": 18,
          "Subsequent Mask": true,
          "Window": 17
         },
         {
          "Masking": 19,
          "Subsequent Mask": true,
          "Window": 17
         },
         {
          "Masking": 0,
          "Subsequent Mask": false,
          "Window": 18
         },
         {
          "Masking": 1,
          "Subsequent Mask": false,
          "Window": 18
         },
         {
          "Masking": 2,
          "Subsequent Mask": false,
          "Window": 18
         },
         {
          "Masking": 3,
          "Subsequent Mask": false,
          "Window": 18
         },
         {
          "Masking": 4,
          "Subsequent Mask": false,
          "Window": 18
         },
         {
          "Masking": 5,
          "Subsequent Mask": false,
          "Window": 18
         },
         {
          "Masking": 6,
          "Subsequent Mask": false,
          "Window": 18
         },
         {
          "Masking": 7,
          "Subsequent Mask": false,
          "Window": 18
         },
         {
          "Masking": 8,
          "Subsequent Mask": false,
          "Window": 18
         },
         {
          "Masking": 9,
          "Subsequent Mask": false,
          "Window": 18
         },
         {
          "Masking": 10,
          "Subsequent Mask": false,
          "Window": 18
         },
         {
          "Masking": 11,
          "Subsequent Mask": false,
          "Window": 18
         },
         {
          "Masking": 12,
          "Subsequent Mask": false,
          "Window": 18
         },
         {
          "Masking": 13,
          "Subsequent Mask": false,
          "Window": 18
         },
         {
          "Masking": 14,
          "Subsequent Mask": false,
          "Window": 18
         },
         {
          "Masking": 15,
          "Subsequent Mask": false,
          "Window": 18
         },
         {
          "Masking": 16,
          "Subsequent Mask": false,
          "Window": 18
         },
         {
          "Masking": 17,
          "Subsequent Mask": false,
          "Window": 18
         },
         {
          "Masking": 18,
          "Subsequent Mask": true,
          "Window": 18
         },
         {
          "Masking": 19,
          "Subsequent Mask": true,
          "Window": 18
         },
         {
          "Masking": 0,
          "Subsequent Mask": false,
          "Window": 19
         },
         {
          "Masking": 1,
          "Subsequent Mask": false,
          "Window": 19
         },
         {
          "Masking": 2,
          "Subsequent Mask": false,
          "Window": 19
         },
         {
          "Masking": 3,
          "Subsequent Mask": false,
          "Window": 19
         },
         {
          "Masking": 4,
          "Subsequent Mask": false,
          "Window": 19
         },
         {
          "Masking": 5,
          "Subsequent Mask": false,
          "Window": 19
         },
         {
          "Masking": 6,
          "Subsequent Mask": false,
          "Window": 19
         },
         {
          "Masking": 7,
          "Subsequent Mask": false,
          "Window": 19
         },
         {
          "Masking": 8,
          "Subsequent Mask": false,
          "Window": 19
         },
         {
          "Masking": 9,
          "Subsequent Mask": false,
          "Window": 19
         },
         {
          "Masking": 10,
          "Subsequent Mask": false,
          "Window": 19
         },
         {
          "Masking": 11,
          "Subsequent Mask": false,
          "Window": 19
         },
         {
          "Masking": 12,
          "Subsequent Mask": false,
          "Window": 19
         },
         {
          "Masking": 13,
          "Subsequent Mask": false,
          "Window": 19
         },
         {
          "Masking": 14,
          "Subsequent Mask": false,
          "Window": 19
         },
         {
          "Masking": 15,
          "Subsequent Mask": false,
          "Window": 19
         },
         {
          "Masking": 16,
          "Subsequent Mask": false,
          "Window": 19
         },
         {
          "Masking": 17,
          "Subsequent Mask": false,
          "Window": 19
         },
         {
          "Masking": 18,
          "Subsequent Mask": false,
          "Window": 19
         },
         {
          "Masking": 19,
          "Subsequent Mask": true,
          "Window": 19
         }
        ]
       },
       "encoding": {
        "color": {
         "field": "Subsequent Mask",
         "scale": {
          "scheme": "viridis"
         },
         "type": "quantitative"
        },
        "x": {
         "field": "Window",
         "type": "ordinal"
        },
        "y": {
         "field": "Masking",
         "type": "ordinal"
        }
       },
       "height": 250,
       "mark": {
        "type": "rect"
       },
       "params": [
        {
         "bind": "scales",
         "name": "param_4",
         "select": {
          "encodings": [
           "x",
           "y"
          ],
          "type": "interval"
         }
        }
       ],
       "width": 250
      },
      "text/plain": [
       "<VegaLite 5 object>\n",
       "\n",
       "If you see this message, it means the renderer has not been properly enabled\n",
       "for the frontend that you are using. For more information, see\n",
       "https://altair-viz.github.io/user_guide/display_frontends.html#troubleshooting\n"
      ]
     },
     "execution_count": 36,
     "metadata": {},
     "output_type": "execute_result"
    }
   ],
   "source": [
    "def example_mask():\n",
    "    LS_data = pd.concat(\n",
    "        [\n",
    "            pd.DataFrame(\n",
    "                {\n",
    "                    \"Subsequent Mask\": subsequent_mask(20)[0][x, y].flatten(),\n",
    "                    \"Window\": y,\n",
    "                    \"Masking\": x,\n",
    "                }\n",
    "            )\n",
    "            for y in range(20)\n",
    "            for x in range(20)\n",
    "        ]\n",
    "    )\n",
    "\n",
    "    return (\n",
    "        alt.Chart(LS_data)\n",
    "        .mark_rect()\n",
    "        .properties(height=250, width=250)\n",
    "        .encode(\n",
    "            alt.X(\"Window:O\"),\n",
    "            alt.Y(\"Masking:O\"),\n",
    "            alt.Color(\"Subsequent Mask:Q\", scale=alt.Scale(scheme=\"viridis\")),\n",
    "        )\n",
    "        .interactive()\n",
    "    )\n",
    "\n",
    "\n",
    "show_example(example_mask)"
   ]
  },
  {
   "cell_type": "markdown",
   "metadata": {},
   "source": [
    "## 前馈网络\n",
    "\n",
    "就是俩线性层"
   ]
  },
  {
   "cell_type": "code",
   "execution_count": 37,
   "metadata": {},
   "outputs": [],
   "source": [
    "class PositionwiseFeedForward(nn.Module):\n",
    "    \"Implements FFN equation.\"\n",
    "\n",
    "    def __init__(self, d_model: int, d_ff: int, dropout_rate=0.1):\n",
    "        super(PositionwiseFeedForward, self).__init__()\n",
    "        self.w_1 = nn.Linear(d_model, d_ff)\n",
    "        self.w_2 = nn.Linear(d_ff, d_model)\n",
    "        self.dropout = nn.Dropout(dropout_rate)\n",
    "\n",
    "    def forward(self, x: torch.Tensor):\n",
    "        return self.w_2(self.dropout(self.w_1(x).relu()))  # 这么写 relu 也行"
   ]
  },
  {
   "cell_type": "markdown",
   "metadata": {},
   "source": [
    "## 层归一化、残差连接，及子层连接\n",
    "\n",
    "层归一化里面也有可学习参数\n",
    "\n",
    "和论文里不太一样，这里是先层归一化，再子层，再 dropout，再残差"
   ]
  },
  {
   "cell_type": "code",
   "execution_count": 38,
   "metadata": {},
   "outputs": [],
   "source": [
    "class LayerNorm(nn.Module):\n",
    "    \"Construct a layernorm module (See citation for details).\"\n",
    "    \"\"\"\n",
    "    对最后一维（feature 维）做层归一化\n",
    "    \"\"\"\n",
    "\n",
    "    def __init__(self, features_size: int, eps=1e-6):\n",
    "        super(LayerNorm, self).__init__()\n",
    "        self.a_2 = nn.Parameter(torch.ones(features_size))  # 可学习参数\n",
    "        self.b_2 = nn.Parameter(torch.zeros(features_size))  # 可学习参数\n",
    "        self.eps = eps\n",
    "\n",
    "    def forward(self, x: torch.Tensor):\n",
    "        mean = x.mean(-1, keepdim=True)\n",
    "        std = x.std(-1, keepdim=True)\n",
    "        return self.a_2 * (x - mean) / (std + self.eps) + self.b_2"
   ]
  },
  {
   "cell_type": "code",
   "execution_count": 39,
   "metadata": {},
   "outputs": [],
   "source": [
    "class SublayerConnection(nn.Module):\n",
    "    \"\"\"\n",
    "    A residual connection followed by a layer norm.\n",
    "    Note for code simplicity the norm is first as opposed to last.\n",
    "    size 就是 d_model\n",
    "    也就是多头注意力/掩码多头注意力/前馈网络的 wrapper\n",
    "    \"\"\"\n",
    "\n",
    "    def __init__(self, size: int, dropout_rate: float):\n",
    "        super(SublayerConnection, self).__init__()\n",
    "        self.norm = LayerNorm(size)\n",
    "        self.dropout = nn.Dropout(dropout_rate)\n",
    "\n",
    "    # sublayer 可能是 nn.Module，也可能是 lambda 函数\n",
    "    # 总之能通过 () 调用就行\n",
    "    def forward(self, x: torch.Tensor, sublayer):\n",
    "        return x + self.dropout(sublayer(self.norm(x)))"
   ]
  },
  {
   "cell_type": "markdown",
   "metadata": {},
   "source": [
    "## 一层 encoder\n",
    "\n"
   ]
  },
  {
   "cell_type": "code",
   "execution_count": 40,
   "metadata": {},
   "outputs": [],
   "source": [
    "class EncoderLayer(nn.Module):\n",
    "    \"Encoder is made up of self-attn and feed forward (defined below)\"\n",
    "    \"\"\"\n",
    "    传入多头注意力模块和前馈模块\n",
    "    \"\"\"\n",
    "\n",
    "    def __init__(self, size: int, self_attn, feed_forward, dropout_rate: float):\n",
    "        super(EncoderLayer, self).__init__()\n",
    "        self.self_attn = self_attn\n",
    "        self.feed_forward = feed_forward\n",
    "        # encoder 有两层，一层多头注意力，一头前馈网络\n",
    "        self.sublayer_connections = clones(SublayerConnection(size, dropout_rate), 2)\n",
    "        self.size = size\n",
    "\n",
    "    def forward(self, x: torch.Tensor, mask):\n",
    "        # 自注意力。要传入一个 lambda 供调用\n",
    "        x = self.sublayer_connections[0](x, lambda x: self.self_attn(x, x, x, mask))\n",
    "        return self.sublayer_connections[1](x, self.feed_forward)"
   ]
  },
  {
   "cell_type": "markdown",
   "metadata": {},
   "source": [
    "## 一层 decoder\n",
    "\n",
    "简直跟 encoder 一模一样！就是多了一层"
   ]
  },
  {
   "cell_type": "code",
   "execution_count": 41,
   "metadata": {},
   "outputs": [],
   "source": [
    "class DecoderLayer(nn.Module):\n",
    "    \"Decoder is made of self-attn, src-attn, and feed forward (defined below)\"\n",
    "    \"\"\"\n",
    "    传入多头注意力模块和前馈模块\n",
    "    \"\"\"\n",
    "\n",
    "    def __init__(\n",
    "        self, size: int, self_attn, src_attn, feed_forward, dropout_rate: float\n",
    "    ):\n",
    "        super(DecoderLayer, self).__init__()\n",
    "        self.size = size\n",
    "        self.self_attn = self_attn\n",
    "        self.src_attn = src_attn\n",
    "        self.feed_forward = feed_forward\n",
    "        self.sublayer = clones(SublayerConnection(size, dropout_rate), 3)\n",
    "\n",
    "    def forward(self, x: torch.Tensor, memory: torch.Tensor, src_mask, tgt_mask):\n",
    "        \"Follow Figure 1 (right) for connections.\"\n",
    "        \"tgt_mask 是给 decoder 那里用的\"\n",
    "        \"src_mask 是给 encoder 到 decoder 那里的 mask 用的\"\n",
    "        m = memory\n",
    "        x = self.sublayer[0](x, lambda x: self.self_attn(x, x, x, tgt_mask))\n",
    "        x = self.sublayer[1](x, lambda x: self.src_attn(x, m, m, src_mask))\n",
    "        return self.sublayer[2](x, self.feed_forward)"
   ]
  },
  {
   "cell_type": "markdown",
   "metadata": {},
   "source": [
    "## 6 层 encoder 堆叠成一个 encoder"
   ]
  },
  {
   "cell_type": "code",
   "execution_count": 42,
   "metadata": {},
   "outputs": [],
   "source": [
    "class Encoder(nn.Module):\n",
    "    \"Core encoder is a stack of N layers\"\n",
    "\n",
    "    # layer 应该是 EncoderLayer\n",
    "    def __init__(self, layer, N: int):\n",
    "        super(Encoder, self).__init__()\n",
    "        self.layers = clones(layer, N)\n",
    "        self.norm = LayerNorm(layer.size)\n",
    "\n",
    "    def forward(self, x: torch.Tensor, mask):\n",
    "        for layer in self.layers:\n",
    "            x = layer(x, mask)\n",
    "        return self.norm(x)"
   ]
  },
  {
   "cell_type": "markdown",
   "metadata": {},
   "source": [
    "## 6 层 decoder 堆叠成一个 decoder"
   ]
  },
  {
   "cell_type": "code",
   "execution_count": 43,
   "metadata": {},
   "outputs": [],
   "source": [
    "class Decoder(nn.Module):\n",
    "    \"Generic N layer decoder with masking.\"\n",
    "\n",
    "    def __init__(self, layer, N: int):\n",
    "        super(Decoder, self).__init__()\n",
    "        self.layers = clones(layer, N)\n",
    "        self.norm = LayerNorm(layer.size)\n",
    "\n",
    "    def forward(self, x: torch.Tensor, memory: torch.Tensor, src_mask, tgt_mask):\n",
    "        for layer in self.layers:\n",
    "            x = layer(x, memory, src_mask, tgt_mask)\n",
    "        return self.norm(x)"
   ]
  },
  {
   "cell_type": "markdown",
   "metadata": {},
   "source": [
    "## 最后的 generator：又生成词的概率"
   ]
  },
  {
   "cell_type": "code",
   "execution_count": 44,
   "metadata": {},
   "outputs": [],
   "source": [
    "class Generator(nn.Module):\n",
    "    \"Define standard linear + softmax generation step.\"\n",
    "    \"最后一维\"\n",
    "\n",
    "    def __init__(self, d_model: int, vocab_size: int):\n",
    "        super(Generator, self).__init__()\n",
    "        self.proj = nn.Linear(d_model, vocab_size)\n",
    "\n",
    "    def forward(self, x: torch.Tensor):\n",
    "        return log_softmax(self.proj(x), dim=-1)"
   ]
  },
  {
   "cell_type": "markdown",
   "metadata": {},
   "source": [
    "## 终极无敌最终模型"
   ]
  },
  {
   "cell_type": "code",
   "execution_count": 45,
   "metadata": {},
   "outputs": [],
   "source": [
    "class EncoderDecoder(nn.Module):\n",
    "    \"\"\"\n",
    "    A standard Encoder-Decoder architecture. Base for this and many\n",
    "    other models.\n",
    "    encoder：Encoder\n",
    "    decoder：Decoder\n",
    "    src_embed：在 src 起到 embedding 和位置编码的模块\n",
    "    dst_embed：在 dst 起到 embedding 和位置编码的模块\n",
    "    \"\"\"\n",
    "\n",
    "    def __init__(\n",
    "        self,\n",
    "        encoder: nn.Module,\n",
    "        decoder: nn.Module,\n",
    "        src_embed: nn.Module,\n",
    "        tgt_embed: nn.Module,\n",
    "        generator: nn.Module,\n",
    "    ):\n",
    "        super(EncoderDecoder, self).__init__()\n",
    "        self.encoder = encoder\n",
    "        self.decoder = decoder\n",
    "        self.src_embed = src_embed\n",
    "        self.tgt_embed = tgt_embed\n",
    "        self.generator = generator\n",
    "\n",
    "    def encode(self, src: torch.Tensor, src_mask):\n",
    "        return self.encoder(self.src_embed(src), src_mask)\n",
    "\n",
    "    def decode(self, memory: torch.Tensor, src_mask, tgt: torch.Tensor, tgt_mask):\n",
    "        return self.decoder(self.tgt_embed(tgt), memory, src_mask, tgt_mask)\n",
    "\n",
    "    def forward(self, src, tgt, src_mask, tgt_mask):\n",
    "        \"Take in and process masked src and target sequences.\"\n",
    "        return self.decode(self.encode(src, src_mask), src_mask, tgt, tgt_mask)"
   ]
  },
  {
   "cell_type": "code",
   "execution_count": null,
   "metadata": {},
   "outputs": [],
   "source": []
  }
 ],
 "metadata": {
  "kernelspec": {
   "display_name": "antsfm",
   "language": "python",
   "name": "python3"
  },
  "language_info": {
   "codemirror_mode": {
    "name": "ipython",
    "version": 3
   },
   "file_extension": ".py",
   "mimetype": "text/x-python",
   "name": "python",
   "nbconvert_exporter": "python",
   "pygments_lexer": "ipython3",
   "version": "3.11.0"
  }
 },
 "nbformat": 4,
 "nbformat_minor": 2
}
